{
 "cells": [
  {
   "cell_type": "code",
   "execution_count": 7,
   "id": "1adf1d7f",
   "metadata": {},
   "outputs": [],
   "source": [
    "# Import Tensorflow & Pathlib librairies\n",
    "import tensorflow as tf \n",
    "import pathlib \n",
    "import pandas as pd \n",
    "import numpy as np\n",
    "import os\n",
    "import io\n",
    "import warnings\n",
    "import keras\n",
    "import regex as re\n",
    "from sklearn.model_selection import train_test_split\n",
    "from tensorflow.keras.layers import Conv1D,Dropout,MaxPooling1D,Flatten\n",
    "from unidecode import unidecode\n",
    "#import en_core_web_md\n",
    "#nlp = en_core_web_md.load()\n",
    "#from wordcloud import WordCloud, STOPWORDS, ImageColorGenerator\n",
    "warnings.filterwarnings('ignore')\n",
    "\n",
    "from sklearn.metrics import accuracy_score,f1_score,precision_score,recall_score,confusion_matrix"
   ]
  },
  {
   "cell_type": "code",
   "execution_count": 3,
   "id": "96dd5167-fc6b-45ad-b551-d02a0910e9fa",
   "metadata": {},
   "outputs": [
    {
     "name": "stdout",
     "output_type": "stream",
     "text": [
      "Collecting en-core-web-sm==3.8.0\n",
      "  Downloading https://github.com/explosion/spacy-models/releases/download/en_core_web_sm-3.8.0/en_core_web_sm-3.8.0-py3-none-any.whl (12.8 MB)\n",
      "     ---------------------------------------- 0.0/12.8 MB ? eta -:--:--\n",
      "     -- ------------------------------------- 0.8/12.8 MB 4.2 MB/s eta 0:00:03\n",
      "     ---- ----------------------------------- 1.6/12.8 MB 4.0 MB/s eta 0:00:03\n",
      "     -------- ------------------------------- 2.6/12.8 MB 4.1 MB/s eta 0:00:03\n",
      "     ---------- ----------------------------- 3.4/12.8 MB 4.2 MB/s eta 0:00:03\n",
      "     ------------- -------------------------- 4.2/12.8 MB 4.2 MB/s eta 0:00:03\n",
      "     ---------------- ----------------------- 5.2/12.8 MB 4.2 MB/s eta 0:00:02\n",
      "     ------------------ --------------------- 6.0/12.8 MB 4.2 MB/s eta 0:00:02\n",
      "     --------------------- ------------------ 6.8/12.8 MB 4.2 MB/s eta 0:00:02\n",
      "     ------------------------ --------------- 7.9/12.8 MB 4.2 MB/s eta 0:00:02\n",
      "     --------------------------- ------------ 8.7/12.8 MB 4.2 MB/s eta 0:00:01\n",
      "     ----------------------------- ---------- 9.4/12.8 MB 4.2 MB/s eta 0:00:01\n",
      "     -------------------------------- ------- 10.5/12.8 MB 4.2 MB/s eta 0:00:01\n",
      "     ----------------------------------- ---- 11.3/12.8 MB 4.2 MB/s eta 0:00:01\n",
      "     ------------------------------------- -- 12.1/12.8 MB 4.2 MB/s eta 0:00:01\n",
      "     ---------------------------------------  12.6/12.8 MB 4.2 MB/s eta 0:00:01\n",
      "     ---------------------------------------- 12.8/12.8 MB 4.0 MB/s eta 0:00:00\n",
      "Installing collected packages: en-core-web-sm\n",
      "Successfully installed en-core-web-sm-3.8.0\n",
      "\u001b[38;5;2m[+] Download and installation successful\u001b[0m\n",
      "You can now load the package via spacy.load('en_core_web_sm')\n"
     ]
    }
   ],
   "source": [
    "!python -m spacy download en_core_web_sm"
   ]
  },
  {
   "cell_type": "code",
   "execution_count": 3,
   "id": "488a151c",
   "metadata": {},
   "outputs": [],
   "source": [
    "df = pd.read_parquet(\"train-00000-of-00001.parquet\")"
   ]
  },
  {
   "cell_type": "code",
   "execution_count": 4,
   "id": "08be2a85",
   "metadata": {},
   "outputs": [
    {
     "data": {
      "text/html": [
       "<div>\n",
       "<style scoped>\n",
       "    .dataframe tbody tr th:only-of-type {\n",
       "        vertical-align: middle;\n",
       "    }\n",
       "\n",
       "    .dataframe tbody tr th {\n",
       "        vertical-align: top;\n",
       "    }\n",
       "\n",
       "    .dataframe thead th {\n",
       "        text-align: right;\n",
       "    }\n",
       "</style>\n",
       "<table border=\"1\" class=\"dataframe\">\n",
       "  <thead>\n",
       "    <tr style=\"text-align: right;\">\n",
       "      <th></th>\n",
       "      <th>text</th>\n",
       "      <th>label</th>\n",
       "    </tr>\n",
       "  </thead>\n",
       "  <tbody>\n",
       "    <tr>\n",
       "      <th>0</th>\n",
       "      <td>i feel awful about it too because it s my job ...</td>\n",
       "      <td>0</td>\n",
       "    </tr>\n",
       "    <tr>\n",
       "      <th>1</th>\n",
       "      <td>im alone i feel awful</td>\n",
       "      <td>0</td>\n",
       "    </tr>\n",
       "    <tr>\n",
       "      <th>2</th>\n",
       "      <td>ive probably mentioned this before but i reall...</td>\n",
       "      <td>1</td>\n",
       "    </tr>\n",
       "    <tr>\n",
       "      <th>3</th>\n",
       "      <td>i was feeling a little low few days back</td>\n",
       "      <td>0</td>\n",
       "    </tr>\n",
       "    <tr>\n",
       "      <th>4</th>\n",
       "      <td>i beleive that i am much more sensitive to oth...</td>\n",
       "      <td>2</td>\n",
       "    </tr>\n",
       "  </tbody>\n",
       "</table>\n",
       "</div>"
      ],
      "text/plain": [
       "                                                text  label\n",
       "0  i feel awful about it too because it s my job ...      0\n",
       "1                              im alone i feel awful      0\n",
       "2  ive probably mentioned this before but i reall...      1\n",
       "3           i was feeling a little low few days back      0\n",
       "4  i beleive that i am much more sensitive to oth...      2"
      ]
     },
     "execution_count": 4,
     "metadata": {},
     "output_type": "execute_result"
    }
   ],
   "source": [
    "df.head()"
   ]
  },
  {
   "cell_type": "code",
   "execution_count": 5,
   "id": "439d93a1",
   "metadata": {},
   "outputs": [
    {
     "data": {
      "text/plain": [
       "(416809, 2)"
      ]
     },
     "execution_count": 5,
     "metadata": {},
     "output_type": "execute_result"
    }
   ],
   "source": [
    "df.shape"
   ]
  },
  {
   "cell_type": "code",
   "execution_count": 6,
   "id": "0e74d98f",
   "metadata": {},
   "outputs": [
    {
     "data": {
      "text/plain": [
       "text     0\n",
       "label    0\n",
       "dtype: int64"
      ]
     },
     "execution_count": 6,
     "metadata": {},
     "output_type": "execute_result"
    }
   ],
   "source": [
    "df.isnull().sum()"
   ]
  },
  {
   "cell_type": "code",
   "execution_count": 7,
   "id": "8c986caf",
   "metadata": {},
   "outputs": [
    {
     "name": "stderr",
     "output_type": "stream",
     "text": [
      "[nltk_data] Downloading package stopwords to\n",
      "[nltk_data]     C:\\Users\\matthieu.marechal\\AppData\\Roaming\\nltk_data..\n",
      "[nltk_data]     .\n",
      "[nltk_data]   Package stopwords is already up-to-date!\n",
      "[nltk_data] Downloading package punkt to\n",
      "[nltk_data]     C:\\Users\\matthieu.marechal\\AppData\\Roaming\\nltk_data..\n",
      "[nltk_data]     .\n",
      "[nltk_data]   Package punkt is already up-to-date!\n"
     ]
    }
   ],
   "source": [
    "import nltk\n",
    "from nltk.corpus import stopwords\n",
    "nltk.download('stopwords')\n",
    "nltk.download('punkt')\n",
    "stops = set(stopwords.words('english'))\n",
    "import spacy\n",
    "sp = spacy.load('en_core_web_sm')\n",
    "\n",
    "spacy_stopwords = sp.Defaults.stop_words\n",
    "\n",
    "stops = stops.union(spacy_stopwords)\n",
    "\n",
    "stops = stops.union({' ','.',',','',\"i'm\",'u','rt','http','like','//t','girl','girls',\"'\",'\"','mkr'})\n",
    "\n",
    "def remove_stop_words(words):\n",
    "\n",
    "   return [word.lower() for word in words if word.lower() not in stops]  \n",
    "\n",
    "import textcleaner as tc\n",
    "\n",
    "\n",
    "def clean_text(text): \n",
    "    \n",
    "  token_text = nlp(text)\n",
    "    \n",
    "  text = [element.lemma_.lower() for element in token_text]  \n",
    "\n",
    "  clean_text = remove_stop_words(text)  \n",
    "    \n",
    "  text = \" \".join(clean_text).strip().lower()  \n",
    "  \n",
    "  text = re.sub(r'[0-9]+','',text).strip()\n",
    "  text = re.sub(r'[@]+','@',text).strip()\n",
    "  text = re.sub(r'@','@ ', text).strip()  \n",
    "  text = re.sub(r'[#]+','#',text).strip()\n",
    "  text = re.sub(r'#','# ', text).strip() \n",
    "#  text = re.sub(r'\\x[0-9]+','',text).strip()  \n",
    "  text = re.sub(r'rt[\\s]+','', text).strip()\n",
    "  text = re.sub(r\"[,.\\\"!$%^&*(){}?/;`~:<>_+=-]\", \"\", text).strip()\n",
    "  text = re.sub(r'http[A-Za-z0-9]+','', text).strip()\n",
    "  text = re.sub(r'bbc','',text) .strip() \n",
    "  emoji = re.compile(\"[\"\n",
    "                           u\"\\U0001F600-\\U0001FFFF\"  # emoticons\n",
    "                           u\"\\U0001F300-\\U0001F5FF\"  # symbols & pictographs\n",
    "                           u\"\\U0001F680-\\U0001F6FF\"  # transport & map symbols\n",
    "                           u\"\\U0001F1E0-\\U0001F1FF\"  # flags (iOS)\n",
    "                           u\"\\U00002702-\\U000027B0\"\n",
    "                           u\"\\U000024C2-\\U0001F251\"\n",
    "                           \"]+\", flags=re.UNICODE)\n",
    "  text = emoji.sub(r'', text).strip()   \n",
    "  text = re.sub(r\"i'm\", \"i am\", text).strip()\n",
    "  text = re.sub(r\"he's\", \"he is\", text).strip()\n",
    "  text = re.sub(r\"she's\", \"she is\", text).strip()\n",
    "  text = re.sub(r\"that's\", \"that is\", text).strip()        \n",
    "  text = re.sub(r\"what's\", \"what is\", text).strip()\n",
    "  text = re.sub(r\"where's\", \"where is\", text).strip() \n",
    "  text = re.sub(r\"\\'ll\", \" will\", text).strip()  \n",
    "  text = re.sub(r\"\\'ve\", \" have\", text).strip()  \n",
    "  text = re.sub(r\"\\'re\", \" are\", text).strip()\n",
    "  text = re.sub(r\"\\'d\", \" would\", text).strip()\n",
    "  text = re.sub(r\"\\'ve\", \" have\", text).strip()\n",
    "  text = re.sub(r\"won't\", \"will not\", text).strip()\n",
    "  text = re.sub(r\"don't\", \"do not\", text).strip()\n",
    "  text = re.sub(r\"did't\", \"did not\", text).strip()\n",
    "  text = re.sub(r\"can't\", \"can not\", text).strip()\n",
    "  text = re.sub(r\"it's\", \"it is\", text).strip()\n",
    "  text = re.sub(r\"couldn't\", \"could not\", text).strip()\n",
    "  text = re.sub(r\"have't\", \"have not\", text).strip()\n",
    "  text = re.sub(r'[\\s]+',' ',text)\n",
    "    \n",
    "  text = text.lower()   \n",
    "    \n",
    "#  text = remove_stop_words2(text).strip()\n",
    "\n",
    "#  text = \" \".join(text).strip()\n",
    " \n",
    "  return text.split(\" \")"
   ]
  },
  {
   "cell_type": "code",
   "execution_count": 8,
   "id": "1b98fae8",
   "metadata": {},
   "outputs": [
    {
     "data": {
      "text/html": [
       "<div>\n",
       "<style scoped>\n",
       "    .dataframe tbody tr th:only-of-type {\n",
       "        vertical-align: middle;\n",
       "    }\n",
       "\n",
       "    .dataframe tbody tr th {\n",
       "        vertical-align: top;\n",
       "    }\n",
       "\n",
       "    .dataframe thead th {\n",
       "        text-align: right;\n",
       "    }\n",
       "</style>\n",
       "<table border=\"1\" class=\"dataframe\">\n",
       "  <thead>\n",
       "    <tr style=\"text-align: right;\">\n",
       "      <th></th>\n",
       "      <th>text</th>\n",
       "      <th>label</th>\n",
       "      <th>token_text</th>\n",
       "      <th>text_cleaned</th>\n",
       "    </tr>\n",
       "  </thead>\n",
       "  <tbody>\n",
       "    <tr>\n",
       "      <th>0</th>\n",
       "      <td>i feel awful about it too because it s my job ...</td>\n",
       "      <td>0</td>\n",
       "      <td>[feel, awful, job, position, succeed, happen]</td>\n",
       "      <td>feel awful job position succeed happen</td>\n",
       "    </tr>\n",
       "    <tr>\n",
       "      <th>1</th>\n",
       "      <td>im alone i feel awful</td>\n",
       "      <td>0</td>\n",
       "      <td>[feel, awful]</td>\n",
       "      <td>feel awful</td>\n",
       "    </tr>\n",
       "    <tr>\n",
       "      <th>2</th>\n",
       "      <td>ive probably mentioned this before but i reall...</td>\n",
       "      <td>1</td>\n",
       "      <td>[probably, mention, feel, proud, actually, new...</td>\n",
       "      <td>probably mention feel proud actually new year ...</td>\n",
       "    </tr>\n",
       "    <tr>\n",
       "      <th>3</th>\n",
       "      <td>i was feeling a little low few days back</td>\n",
       "      <td>0</td>\n",
       "      <td>[feel, little, low, day]</td>\n",
       "      <td>feel little low day</td>\n",
       "    </tr>\n",
       "    <tr>\n",
       "      <th>4</th>\n",
       "      <td>i beleive that i am much more sensitive to oth...</td>\n",
       "      <td>2</td>\n",
       "      <td>[beleive, sensitive, people, feeling, tend, co...</td>\n",
       "      <td>beleive sensitive people feeling tend compassi...</td>\n",
       "    </tr>\n",
       "  </tbody>\n",
       "</table>\n",
       "</div>"
      ],
      "text/plain": [
       "                                                text  label  \\\n",
       "0  i feel awful about it too because it s my job ...      0   \n",
       "1                              im alone i feel awful      0   \n",
       "2  ive probably mentioned this before but i reall...      1   \n",
       "3           i was feeling a little low few days back      0   \n",
       "4  i beleive that i am much more sensitive to oth...      2   \n",
       "\n",
       "                                          token_text  \\\n",
       "0      [feel, awful, job, position, succeed, happen]   \n",
       "1                                      [feel, awful]   \n",
       "2  [probably, mention, feel, proud, actually, new...   \n",
       "3                           [feel, little, low, day]   \n",
       "4  [beleive, sensitive, people, feeling, tend, co...   \n",
       "\n",
       "                                        text_cleaned  \n",
       "0             feel awful job position succeed happen  \n",
       "1                                         feel awful  \n",
       "2  probably mention feel proud actually new year ...  \n",
       "3                                feel little low day  \n",
       "4  beleive sensitive people feeling tend compassi...  "
      ]
     },
     "execution_count": 8,
     "metadata": {},
     "output_type": "execute_result"
    }
   ],
   "source": [
    "df['token_text'] = df['text'].apply(clean_text)\n",
    "\n",
    "df['text_cleaned'] = df['token_text'].apply(lambda x : \" \".join(x))\n",
    "df.head()"
   ]
  },
  {
   "cell_type": "code",
   "execution_count": 9,
   "id": "f00215a9",
   "metadata": {},
   "outputs": [],
   "source": [
    "df.to_excel(\"df_clean.xlsx\")"
   ]
  },
  {
   "cell_type": "code",
   "execution_count": null,
   "id": "e210ea7b",
   "metadata": {},
   "outputs": [],
   "source": []
  },
  {
   "cell_type": "code",
   "execution_count": 18,
   "id": "09168611-f452-4b7f-96aa-11c47b69efe8",
   "metadata": {},
   "outputs": [],
   "source": [
    "df_clear.iloc[:,1:].to_csv(\"df_clean.csv\")"
   ]
  },
  {
   "cell_type": "code",
   "execution_count": 60,
   "id": "deaa344c-efef-477b-935c-051b3177b92e",
   "metadata": {},
   "outputs": [],
   "source": [
    "df = pd.read_csv(\"df_clean.csv\",index_col = 0)"
   ]
  },
  {
   "cell_type": "code",
   "execution_count": 62,
   "id": "11081008-7f4a-4b98-9885-967f7a7cc4b3",
   "metadata": {},
   "outputs": [
    {
     "data": {
      "text/html": [
       "<div>\n",
       "<style scoped>\n",
       "    .dataframe tbody tr th:only-of-type {\n",
       "        vertical-align: middle;\n",
       "    }\n",
       "\n",
       "    .dataframe tbody tr th {\n",
       "        vertical-align: top;\n",
       "    }\n",
       "\n",
       "    .dataframe thead th {\n",
       "        text-align: right;\n",
       "    }\n",
       "</style>\n",
       "<table border=\"1\" class=\"dataframe\">\n",
       "  <thead>\n",
       "    <tr style=\"text-align: right;\">\n",
       "      <th></th>\n",
       "      <th>text</th>\n",
       "      <th>label</th>\n",
       "      <th>token_text</th>\n",
       "      <th>text_cleaned</th>\n",
       "    </tr>\n",
       "  </thead>\n",
       "  <tbody>\n",
       "    <tr>\n",
       "      <th>0</th>\n",
       "      <td>i feel awful about it too because it s my job ...</td>\n",
       "      <td>0</td>\n",
       "      <td>['feel', 'awful', 'job', 'position', 'succeed'...</td>\n",
       "      <td>feel awful job position succeed happen</td>\n",
       "    </tr>\n",
       "    <tr>\n",
       "      <th>1</th>\n",
       "      <td>im alone i feel awful</td>\n",
       "      <td>0</td>\n",
       "      <td>['feel', 'awful']</td>\n",
       "      <td>feel awful</td>\n",
       "    </tr>\n",
       "    <tr>\n",
       "      <th>2</th>\n",
       "      <td>ive probably mentioned this before but i reall...</td>\n",
       "      <td>1</td>\n",
       "      <td>['probably', 'mention', 'feel', 'proud', 'actu...</td>\n",
       "      <td>probably mention feel proud actually new year ...</td>\n",
       "    </tr>\n",
       "    <tr>\n",
       "      <th>3</th>\n",
       "      <td>i was feeling a little low few days back</td>\n",
       "      <td>0</td>\n",
       "      <td>['feel', 'little', 'low', 'day']</td>\n",
       "      <td>feel little low day</td>\n",
       "    </tr>\n",
       "    <tr>\n",
       "      <th>4</th>\n",
       "      <td>i beleive that i am much more sensitive to oth...</td>\n",
       "      <td>2</td>\n",
       "      <td>['beleive', 'sensitive', 'people', 'feeling', ...</td>\n",
       "      <td>beleive sensitive people feeling tend compassi...</td>\n",
       "    </tr>\n",
       "  </tbody>\n",
       "</table>\n",
       "</div>"
      ],
      "text/plain": [
       "                                                text  label  \\\n",
       "0  i feel awful about it too because it s my job ...      0   \n",
       "1                              im alone i feel awful      0   \n",
       "2  ive probably mentioned this before but i reall...      1   \n",
       "3           i was feeling a little low few days back      0   \n",
       "4  i beleive that i am much more sensitive to oth...      2   \n",
       "\n",
       "                                          token_text  \\\n",
       "0  ['feel', 'awful', 'job', 'position', 'succeed'...   \n",
       "1                                  ['feel', 'awful']   \n",
       "2  ['probably', 'mention', 'feel', 'proud', 'actu...   \n",
       "3                   ['feel', 'little', 'low', 'day']   \n",
       "4  ['beleive', 'sensitive', 'people', 'feeling', ...   \n",
       "\n",
       "                                        text_cleaned  \n",
       "0             feel awful job position succeed happen  \n",
       "1                                         feel awful  \n",
       "2  probably mention feel proud actually new year ...  \n",
       "3                                feel little low day  \n",
       "4  beleive sensitive people feeling tend compassi...  "
      ]
     },
     "execution_count": 62,
     "metadata": {},
     "output_type": "execute_result"
    }
   ],
   "source": [
    "df.head()"
   ]
  },
  {
   "cell_type": "code",
   "execution_count": 64,
   "id": "8a7666da-edaa-4c62-9411-9df9fbb11493",
   "metadata": {},
   "outputs": [],
   "source": [
    "df[\"text_cleaned\"] = df_clear.text_cleaned.astype(str)"
   ]
  },
  {
   "cell_type": "code",
   "execution_count": 66,
   "id": "2247fefa-8494-4400-9631-d33d7cfc93ab",
   "metadata": {},
   "outputs": [],
   "source": [
    "import numpy as np\n",
    "tokenizer1 = tf.keras.preprocessing.text.Tokenizer(num_words=1000) # instanciate the tokenizer\n",
    "tokenizer1.fit_on_texts(df.text_cleaned)\n",
    "df[\"text_encoded\"] = tokenizer1.texts_to_sequences(df.text_cleaned)\n",
    "df[\"len_text\"] = df[\"text_encoded\"].apply(lambda x: len(x))"
   ]
  },
  {
   "cell_type": "code",
   "execution_count": 70,
   "id": "0e3cc0c9-e77b-467e-99c1-d582841937b1",
   "metadata": {},
   "outputs": [],
   "source": [
    "df1 = df[df[\"len_text\"]!=0]\n",
    "\n",
    "text_pad1 = tf.keras.preprocessing.sequence.pad_sequences(df1.text_encoded, padding=\"post\")\n",
    "\n",
    "y = df1['label'].values"
   ]
  },
  {
   "cell_type": "code",
   "execution_count": 222,
   "id": "6c46365a-ec3c-4068-aa95-acee400fac5e",
   "metadata": {},
   "outputs": [],
   "source": [
    "X_train,X_testi,y_train,y_testi = train_test_split(text_pad1,y,test_size = 0.4,stratify = y)\n",
    "\n",
    "X_test,X_val,y_test,y_val = train_test_split(X_testi,y_testi,test_size = 0.5, stratify = y_testi)"
   ]
  },
  {
   "cell_type": "code",
   "execution_count": 224,
   "id": "5a2b80dc-b3c7-4983-937f-8754358e548c",
   "metadata": {},
   "outputs": [],
   "source": [
    "y_train = tf.keras.utils.to_categorical(y_train, num_classes=6)\n",
    "y_val = tf.keras.utils.to_categorical(y_val, num_classes=6)"
   ]
  },
  {
   "cell_type": "code",
   "execution_count": 226,
   "id": "0753b68d-a954-4f4f-a03d-8dfc4f954394",
   "metadata": {},
   "outputs": [
    {
     "data": {
      "text/plain": [
       "(249894, 31)"
      ]
     },
     "execution_count": 226,
     "metadata": {},
     "output_type": "execute_result"
    }
   ],
   "source": [
    "X_train.shape"
   ]
  },
  {
   "cell_type": "code",
   "execution_count": 388,
   "id": "97abb865-f49a-45bf-b48f-d6e3d6f70823",
   "metadata": {},
   "outputs": [],
   "source": [
    "vocab_size = tokenizer1.num_words\n",
    "model1 = keras.Sequential([\n",
    "                  # Couche d'Input Word Embedding  \n",
    "                  keras.layers.Embedding(vocab_size+1, 128, input_shape=[X_train.shape[1],],\\\n",
    "                                         name=\"embedding\"),\n",
    "                  Conv1D(\n",
    "filters = 14, # the number of neurons on the convolutional layer\n",
    "kernel_size = (3), # the number of elements of the input the neuron will analyse at once\n",
    "strides = 1, # how should the filters move along the conv dimension on the input\n",
    "padding = \"same\", # \"valid\" means no padding, \"same\" means output shape = input shape\n",
    "activation = \"relu\", # the activation function\n",
    "kernel_regularizer = 'l2' # regularization on the neuron's parameters\n",
    "),\n",
    "                      keras.layers.GlobalAveragePooling1D(),\n",
    "#                  keras.layers.Dense(50, activation='relu'),\n",
    "                  keras.layers.Dropout(0.2),\n",
    "                  # Couche Dense classique\n",
    "                  tf.keras.layers.Dense(16, activation='relu'),\n",
    "                  keras.layers.Dropout(0.4),\n",
    "#                  tf.keras.layers.Dense(3, activation='relu'),\n",
    "#                  keras.layers.Dropout(0.2),\n",
    "                  # Couche de sortie avec le nombre de neurones en sortie égale au nombre de classe avec fonction softmax\n",
    "                  keras.layers.Dense(6, activation=\"softmax\"),\n",
    "])"
   ]
  },
  {
   "cell_type": "code",
   "execution_count": 390,
   "id": "9abeea25-a7db-4679-926f-10342c8df9dc",
   "metadata": {},
   "outputs": [
    {
     "data": {
      "text/html": [
       "<pre style=\"white-space:pre;overflow-x:auto;line-height:normal;font-family:Menlo,'DejaVu Sans Mono',consolas,'Courier New',monospace\"><span style=\"font-weight: bold\">Model: \"sequential_14\"</span>\n",
       "</pre>\n"
      ],
      "text/plain": [
       "\u001b[1mModel: \"sequential_14\"\u001b[0m\n"
      ]
     },
     "metadata": {},
     "output_type": "display_data"
    },
    {
     "data": {
      "text/html": [
       "<pre style=\"white-space:pre;overflow-x:auto;line-height:normal;font-family:Menlo,'DejaVu Sans Mono',consolas,'Courier New',monospace\">┏━━━━━━━━━━━━━━━━━━━━━━━━━━━━━━━━━━━━━━┳━━━━━━━━━━━━━━━━━━━━━━━━━━━━━┳━━━━━━━━━━━━━━━━━┓\n",
       "┃<span style=\"font-weight: bold\"> Layer (type)                         </span>┃<span style=\"font-weight: bold\"> Output Shape                </span>┃<span style=\"font-weight: bold\">         Param # </span>┃\n",
       "┡━━━━━━━━━━━━━━━━━━━━━━━━━━━━━━━━━━━━━━╇━━━━━━━━━━━━━━━━━━━━━━━━━━━━━╇━━━━━━━━━━━━━━━━━┩\n",
       "│ embedding (<span style=\"color: #0087ff; text-decoration-color: #0087ff\">Embedding</span>)                │ (<span style=\"color: #00d7ff; text-decoration-color: #00d7ff\">None</span>, <span style=\"color: #00af00; text-decoration-color: #00af00\">31</span>, <span style=\"color: #00af00; text-decoration-color: #00af00\">128</span>)             │         <span style=\"color: #00af00; text-decoration-color: #00af00\">128,128</span> │\n",
       "├──────────────────────────────────────┼─────────────────────────────┼─────────────────┤\n",
       "│ conv1d_15 (<span style=\"color: #0087ff; text-decoration-color: #0087ff\">Conv1D</span>)                   │ (<span style=\"color: #00d7ff; text-decoration-color: #00d7ff\">None</span>, <span style=\"color: #00af00; text-decoration-color: #00af00\">31</span>, <span style=\"color: #00af00; text-decoration-color: #00af00\">14</span>)              │           <span style=\"color: #00af00; text-decoration-color: #00af00\">5,390</span> │\n",
       "├──────────────────────────────────────┼─────────────────────────────┼─────────────────┤\n",
       "│ global_average_pooling1d_15          │ (<span style=\"color: #00d7ff; text-decoration-color: #00d7ff\">None</span>, <span style=\"color: #00af00; text-decoration-color: #00af00\">14</span>)                  │               <span style=\"color: #00af00; text-decoration-color: #00af00\">0</span> │\n",
       "│ (<span style=\"color: #0087ff; text-decoration-color: #0087ff\">GlobalAveragePooling1D</span>)             │                             │                 │\n",
       "├──────────────────────────────────────┼─────────────────────────────┼─────────────────┤\n",
       "│ dropout_30 (<span style=\"color: #0087ff; text-decoration-color: #0087ff\">Dropout</span>)                 │ (<span style=\"color: #00d7ff; text-decoration-color: #00d7ff\">None</span>, <span style=\"color: #00af00; text-decoration-color: #00af00\">14</span>)                  │               <span style=\"color: #00af00; text-decoration-color: #00af00\">0</span> │\n",
       "├──────────────────────────────────────┼─────────────────────────────┼─────────────────┤\n",
       "│ dense_33 (<span style=\"color: #0087ff; text-decoration-color: #0087ff\">Dense</span>)                     │ (<span style=\"color: #00d7ff; text-decoration-color: #00d7ff\">None</span>, <span style=\"color: #00af00; text-decoration-color: #00af00\">16</span>)                  │             <span style=\"color: #00af00; text-decoration-color: #00af00\">240</span> │\n",
       "├──────────────────────────────────────┼─────────────────────────────┼─────────────────┤\n",
       "│ dropout_31 (<span style=\"color: #0087ff; text-decoration-color: #0087ff\">Dropout</span>)                 │ (<span style=\"color: #00d7ff; text-decoration-color: #00d7ff\">None</span>, <span style=\"color: #00af00; text-decoration-color: #00af00\">16</span>)                  │               <span style=\"color: #00af00; text-decoration-color: #00af00\">0</span> │\n",
       "├──────────────────────────────────────┼─────────────────────────────┼─────────────────┤\n",
       "│ dense_34 (<span style=\"color: #0087ff; text-decoration-color: #0087ff\">Dense</span>)                     │ (<span style=\"color: #00d7ff; text-decoration-color: #00d7ff\">None</span>, <span style=\"color: #00af00; text-decoration-color: #00af00\">6</span>)                   │             <span style=\"color: #00af00; text-decoration-color: #00af00\">102</span> │\n",
       "└──────────────────────────────────────┴─────────────────────────────┴─────────────────┘\n",
       "</pre>\n"
      ],
      "text/plain": [
       "┏━━━━━━━━━━━━━━━━━━━━━━━━━━━━━━━━━━━━━━┳━━━━━━━━━━━━━━━━━━━━━━━━━━━━━┳━━━━━━━━━━━━━━━━━┓\n",
       "┃\u001b[1m \u001b[0m\u001b[1mLayer (type)                        \u001b[0m\u001b[1m \u001b[0m┃\u001b[1m \u001b[0m\u001b[1mOutput Shape               \u001b[0m\u001b[1m \u001b[0m┃\u001b[1m \u001b[0m\u001b[1m        Param #\u001b[0m\u001b[1m \u001b[0m┃\n",
       "┡━━━━━━━━━━━━━━━━━━━━━━━━━━━━━━━━━━━━━━╇━━━━━━━━━━━━━━━━━━━━━━━━━━━━━╇━━━━━━━━━━━━━━━━━┩\n",
       "│ embedding (\u001b[38;5;33mEmbedding\u001b[0m)                │ (\u001b[38;5;45mNone\u001b[0m, \u001b[38;5;34m31\u001b[0m, \u001b[38;5;34m128\u001b[0m)             │         \u001b[38;5;34m128,128\u001b[0m │\n",
       "├──────────────────────────────────────┼─────────────────────────────┼─────────────────┤\n",
       "│ conv1d_15 (\u001b[38;5;33mConv1D\u001b[0m)                   │ (\u001b[38;5;45mNone\u001b[0m, \u001b[38;5;34m31\u001b[0m, \u001b[38;5;34m14\u001b[0m)              │           \u001b[38;5;34m5,390\u001b[0m │\n",
       "├──────────────────────────────────────┼─────────────────────────────┼─────────────────┤\n",
       "│ global_average_pooling1d_15          │ (\u001b[38;5;45mNone\u001b[0m, \u001b[38;5;34m14\u001b[0m)                  │               \u001b[38;5;34m0\u001b[0m │\n",
       "│ (\u001b[38;5;33mGlobalAveragePooling1D\u001b[0m)             │                             │                 │\n",
       "├──────────────────────────────────────┼─────────────────────────────┼─────────────────┤\n",
       "│ dropout_30 (\u001b[38;5;33mDropout\u001b[0m)                 │ (\u001b[38;5;45mNone\u001b[0m, \u001b[38;5;34m14\u001b[0m)                  │               \u001b[38;5;34m0\u001b[0m │\n",
       "├──────────────────────────────────────┼─────────────────────────────┼─────────────────┤\n",
       "│ dense_33 (\u001b[38;5;33mDense\u001b[0m)                     │ (\u001b[38;5;45mNone\u001b[0m, \u001b[38;5;34m16\u001b[0m)                  │             \u001b[38;5;34m240\u001b[0m │\n",
       "├──────────────────────────────────────┼─────────────────────────────┼─────────────────┤\n",
       "│ dropout_31 (\u001b[38;5;33mDropout\u001b[0m)                 │ (\u001b[38;5;45mNone\u001b[0m, \u001b[38;5;34m16\u001b[0m)                  │               \u001b[38;5;34m0\u001b[0m │\n",
       "├──────────────────────────────────────┼─────────────────────────────┼─────────────────┤\n",
       "│ dense_34 (\u001b[38;5;33mDense\u001b[0m)                     │ (\u001b[38;5;45mNone\u001b[0m, \u001b[38;5;34m6\u001b[0m)                   │             \u001b[38;5;34m102\u001b[0m │\n",
       "└──────────────────────────────────────┴─────────────────────────────┴─────────────────┘\n"
      ]
     },
     "metadata": {},
     "output_type": "display_data"
    },
    {
     "data": {
      "text/html": [
       "<pre style=\"white-space:pre;overflow-x:auto;line-height:normal;font-family:Menlo,'DejaVu Sans Mono',consolas,'Courier New',monospace\"><span style=\"font-weight: bold\"> Total params: </span><span style=\"color: #00af00; text-decoration-color: #00af00\">133,860</span> (522.89 KB)\n",
       "</pre>\n"
      ],
      "text/plain": [
       "\u001b[1m Total params: \u001b[0m\u001b[38;5;34m133,860\u001b[0m (522.89 KB)\n"
      ]
     },
     "metadata": {},
     "output_type": "display_data"
    },
    {
     "data": {
      "text/html": [
       "<pre style=\"white-space:pre;overflow-x:auto;line-height:normal;font-family:Menlo,'DejaVu Sans Mono',consolas,'Courier New',monospace\"><span style=\"font-weight: bold\"> Trainable params: </span><span style=\"color: #00af00; text-decoration-color: #00af00\">133,860</span> (522.89 KB)\n",
       "</pre>\n"
      ],
      "text/plain": [
       "\u001b[1m Trainable params: \u001b[0m\u001b[38;5;34m133,860\u001b[0m (522.89 KB)\n"
      ]
     },
     "metadata": {},
     "output_type": "display_data"
    },
    {
     "data": {
      "text/html": [
       "<pre style=\"white-space:pre;overflow-x:auto;line-height:normal;font-family:Menlo,'DejaVu Sans Mono',consolas,'Courier New',monospace\"><span style=\"font-weight: bold\"> Non-trainable params: </span><span style=\"color: #00af00; text-decoration-color: #00af00\">0</span> (0.00 B)\n",
       "</pre>\n"
      ],
      "text/plain": [
       "\u001b[1m Non-trainable params: \u001b[0m\u001b[38;5;34m0\u001b[0m (0.00 B)\n"
      ]
     },
     "metadata": {},
     "output_type": "display_data"
    }
   ],
   "source": [
    "model1.summary()"
   ]
  },
  {
   "cell_type": "code",
   "execution_count": 392,
   "id": "b14cdb95-3022-4674-b213-0335529da003",
   "metadata": {},
   "outputs": [
    {
     "name": "stdout",
     "output_type": "stream",
     "text": [
      "Epoch 1/25\n",
      "\u001b[1m50/50\u001b[0m \u001b[32m━━━━━━━━━━━━━━━━━━━━\u001b[0m\u001b[37m\u001b[0m \u001b[1m10s\u001b[0m 125ms/step - loss: 1.9607 - mean_absolute_error: 0.2757 - val_loss: 1.7261 - val_mean_absolute_error: 0.2670\n",
      "Epoch 2/25\n",
      "\u001b[1m50/50\u001b[0m \u001b[32m━━━━━━━━━━━━━━━━━━━━\u001b[0m\u001b[37m\u001b[0m \u001b[1m5s\u001b[0m 107ms/step - loss: 1.7180 - mean_absolute_error: 0.2643 - val_loss: 1.6246 - val_mean_absolute_error: 0.2613\n",
      "Epoch 3/25\n",
      "\u001b[1m50/50\u001b[0m \u001b[32m━━━━━━━━━━━━━━━━━━━━\u001b[0m\u001b[37m\u001b[0m \u001b[1m5s\u001b[0m 105ms/step - loss: 1.6517 - mean_absolute_error: 0.2602 - val_loss: 1.6012 - val_mean_absolute_error: 0.2594\n",
      "Epoch 4/25\n",
      "\u001b[1m50/50\u001b[0m \u001b[32m━━━━━━━━━━━━━━━━━━━━\u001b[0m\u001b[37m\u001b[0m \u001b[1m5s\u001b[0m 102ms/step - loss: 1.6344 - mean_absolute_error: 0.2608 - val_loss: 1.5923 - val_mean_absolute_error: 0.2593\n",
      "Epoch 5/25\n",
      "\u001b[1m50/50\u001b[0m \u001b[32m━━━━━━━━━━━━━━━━━━━━\u001b[0m\u001b[37m\u001b[0m \u001b[1m5s\u001b[0m 108ms/step - loss: 1.6163 - mean_absolute_error: 0.2584 - val_loss: 1.5889 - val_mean_absolute_error: 0.2594\n",
      "Epoch 6/25\n",
      "\u001b[1m50/50\u001b[0m \u001b[32m━━━━━━━━━━━━━━━━━━━━\u001b[0m\u001b[37m\u001b[0m \u001b[1m6s\u001b[0m 124ms/step - loss: 1.6065 - mean_absolute_error: 0.2589 - val_loss: 1.5837 - val_mean_absolute_error: 0.2589\n",
      "Epoch 7/25\n",
      "\u001b[1m50/50\u001b[0m \u001b[32m━━━━━━━━━━━━━━━━━━━━\u001b[0m\u001b[37m\u001b[0m \u001b[1m10s\u001b[0m 197ms/step - loss: 1.5835 - mean_absolute_error: 0.2563 - val_loss: 1.5702 - val_mean_absolute_error: 0.2557\n",
      "Epoch 8/25\n",
      "\u001b[1m50/50\u001b[0m \u001b[32m━━━━━━━━━━━━━━━━━━━━\u001b[0m\u001b[37m\u001b[0m \u001b[1m7s\u001b[0m 142ms/step - loss: 1.5815 - mean_absolute_error: 0.2540 - val_loss: 1.5608 - val_mean_absolute_error: 0.2519\n",
      "Epoch 9/25\n",
      "\u001b[1m50/50\u001b[0m \u001b[32m━━━━━━━━━━━━━━━━━━━━\u001b[0m\u001b[37m\u001b[0m \u001b[1m7s\u001b[0m 135ms/step - loss: 1.5800 - mean_absolute_error: 0.2523 - val_loss: 1.5460 - val_mean_absolute_error: 0.2544\n",
      "Epoch 10/25\n",
      "\u001b[1m50/50\u001b[0m \u001b[32m━━━━━━━━━━━━━━━━━━━━\u001b[0m\u001b[37m\u001b[0m \u001b[1m6s\u001b[0m 123ms/step - loss: 1.5712 - mean_absolute_error: 0.2533 - val_loss: 1.4965 - val_mean_absolute_error: 0.2462\n",
      "Epoch 11/25\n",
      "\u001b[1m50/50\u001b[0m \u001b[32m━━━━━━━━━━━━━━━━━━━━\u001b[0m\u001b[37m\u001b[0m \u001b[1m6s\u001b[0m 118ms/step - loss: 1.5250 - mean_absolute_error: 0.2451 - val_loss: 1.4015 - val_mean_absolute_error: 0.2327\n",
      "Epoch 12/25\n",
      "\u001b[1m50/50\u001b[0m \u001b[32m━━━━━━━━━━━━━━━━━━━━\u001b[0m\u001b[37m\u001b[0m \u001b[1m6s\u001b[0m 116ms/step - loss: 1.4666 - mean_absolute_error: 0.2361 - val_loss: 1.3030 - val_mean_absolute_error: 0.2167\n",
      "Epoch 13/25\n",
      "\u001b[1m50/50\u001b[0m \u001b[32m━━━━━━━━━━━━━━━━━━━━\u001b[0m\u001b[37m\u001b[0m \u001b[1m5s\u001b[0m 110ms/step - loss: 1.3380 - mean_absolute_error: 0.2161 - val_loss: 1.2347 - val_mean_absolute_error: 0.2048\n",
      "Epoch 14/25\n",
      "\u001b[1m50/50\u001b[0m \u001b[32m━━━━━━━━━━━━━━━━━━━━\u001b[0m\u001b[37m\u001b[0m \u001b[1m5s\u001b[0m 108ms/step - loss: 1.2898 - mean_absolute_error: 0.2069 - val_loss: 1.1878 - val_mean_absolute_error: 0.1974\n",
      "Epoch 15/25\n",
      "\u001b[1m50/50\u001b[0m \u001b[32m━━━━━━━━━━━━━━━━━━━━\u001b[0m\u001b[37m\u001b[0m \u001b[1m5s\u001b[0m 109ms/step - loss: 1.2517 - mean_absolute_error: 0.2017 - val_loss: 1.1584 - val_mean_absolute_error: 0.1948\n",
      "Epoch 16/25\n",
      "\u001b[1m50/50\u001b[0m \u001b[32m━━━━━━━━━━━━━━━━━━━━\u001b[0m\u001b[37m\u001b[0m \u001b[1m5s\u001b[0m 107ms/step - loss: 1.2573 - mean_absolute_error: 0.2032 - val_loss: 1.1430 - val_mean_absolute_error: 0.1941\n",
      "Epoch 17/25\n",
      "\u001b[1m50/50\u001b[0m \u001b[32m━━━━━━━━━━━━━━━━━━━━\u001b[0m\u001b[37m\u001b[0m \u001b[1m5s\u001b[0m 110ms/step - loss: 1.2315 - mean_absolute_error: 0.2012 - val_loss: 1.1072 - val_mean_absolute_error: 0.1844\n",
      "Epoch 18/25\n",
      "\u001b[1m50/50\u001b[0m \u001b[32m━━━━━━━━━━━━━━━━━━━━\u001b[0m\u001b[37m\u001b[0m \u001b[1m5s\u001b[0m 103ms/step - loss: 1.2020 - mean_absolute_error: 0.1939 - val_loss: 1.0862 - val_mean_absolute_error: 0.1832\n",
      "Epoch 19/25\n",
      "\u001b[1m50/50\u001b[0m \u001b[32m━━━━━━━━━━━━━━━━━━━━\u001b[0m\u001b[37m\u001b[0m \u001b[1m5s\u001b[0m 109ms/step - loss: 1.1474 - mean_absolute_error: 0.1884 - val_loss: 1.0570 - val_mean_absolute_error: 0.1793\n",
      "Epoch 20/25\n",
      "\u001b[1m50/50\u001b[0m \u001b[32m━━━━━━━━━━━━━━━━━━━━\u001b[0m\u001b[37m\u001b[0m \u001b[1m5s\u001b[0m 105ms/step - loss: 1.1691 - mean_absolute_error: 0.1893 - val_loss: 1.0259 - val_mean_absolute_error: 0.1736\n",
      "Epoch 21/25\n",
      "\u001b[1m50/50\u001b[0m \u001b[32m━━━━━━━━━━━━━━━━━━━━\u001b[0m\u001b[37m\u001b[0m \u001b[1m6s\u001b[0m 114ms/step - loss: 1.1324 - mean_absolute_error: 0.1831 - val_loss: 0.9915 - val_mean_absolute_error: 0.1671\n",
      "Epoch 22/25\n",
      "\u001b[1m50/50\u001b[0m \u001b[32m━━━━━━━━━━━━━━━━━━━━\u001b[0m\u001b[37m\u001b[0m \u001b[1m6s\u001b[0m 126ms/step - loss: 1.1274 - mean_absolute_error: 0.1812 - val_loss: 0.9634 - val_mean_absolute_error: 0.1618\n",
      "Epoch 23/25\n",
      "\u001b[1m50/50\u001b[0m \u001b[32m━━━━━━━━━━━━━━━━━━━━\u001b[0m\u001b[37m\u001b[0m \u001b[1m6s\u001b[0m 113ms/step - loss: 1.0472 - mean_absolute_error: 0.1702 - val_loss: 0.9349 - val_mean_absolute_error: 0.1543\n",
      "Epoch 24/25\n",
      "\u001b[1m50/50\u001b[0m \u001b[32m━━━━━━━━━━━━━━━━━━━━\u001b[0m\u001b[37m\u001b[0m \u001b[1m6s\u001b[0m 116ms/step - loss: 1.0412 - mean_absolute_error: 0.1672 - val_loss: 0.9049 - val_mean_absolute_error: 0.1492\n",
      "Epoch 25/25\n",
      "\u001b[1m50/50\u001b[0m \u001b[32m━━━━━━━━━━━━━━━━━━━━\u001b[0m\u001b[37m\u001b[0m \u001b[1m6s\u001b[0m 116ms/step - loss: 1.0426 - mean_absolute_error: 0.1654 - val_loss: 0.8858 - val_mean_absolute_error: 0.1501\n"
     ]
    }
   ],
   "source": [
    "optimizer= keras.optimizers.Adam()\n",
    "\n",
    "model1.compile(optimizer=optimizer,\n",
    "              loss=\"categorical_crossentropy\",\n",
    "              metrics=[keras.metrics.MeanAbsoluteError()])\n",
    "\n",
    "# Entrainement du modèle \n",
    "history = model1.fit(x=X_train,y=y_train,batch_size = 64, \n",
    "                    epochs=25, \n",
    "                    validation_data=(X_val,y_val),steps_per_epoch = 50)"
   ]
  },
  {
   "cell_type": "code",
   "execution_count": 393,
   "id": "8321be71-1ff1-479c-8588-528ef6d10bda",
   "metadata": {},
   "outputs": [
    {
     "data": {
      "image/png": "[encoded data removed]",
      "text/plain": [
       "<Figure size 640x480 with 1 Axes>"
      ]
     },
     "metadata": {},
     "output_type": "display_data"
    }
   ],
   "source": [
    "import matplotlib.pyplot as plt\n",
    "\n",
    "# Visualization of the training process on the loss function \n",
    "plt.plot(history.history[\"loss\"], color=\"b\")\n",
    "plt.plot(history.history[\"val_loss\"], color=\"r\")\n",
    "plt.ylabel(\"loss\")\n",
    "plt.xlabel(\"Epochs\")\n",
    "plt.show()"
   ]
  },
  {
   "cell_type": "code",
   "execution_count": 394,
   "id": "d4ce9ad9-0292-431d-9095-6ae7309230f6",
   "metadata": {},
   "outputs": [
    {
     "name": "stdout",
     "output_type": "stream",
     "text": [
      "\u001b[1m7810/7810\u001b[0m \u001b[32m━━━━━━━━━━━━━━━━━━━━\u001b[0m\u001b[37m\u001b[0m \u001b[1m33s\u001b[0m 4ms/step\n",
      "\u001b[1m2604/2604\u001b[0m \u001b[32m━━━━━━━━━━━━━━━━━━━━\u001b[0m\u001b[37m\u001b[0m \u001b[1m9s\u001b[0m 4ms/step\n"
     ]
    }
   ],
   "source": [
    "y_train_pred_prob = model1.predict(X_train)\n",
    "y_test_pred_prob = model1.predict(X_test)"
   ]
  },
  {
   "cell_type": "code",
   "execution_count": 395,
   "id": "d088e1a3-f2e9-4def-96c7-1884864ae1ab",
   "metadata": {},
   "outputs": [],
   "source": [
    "y_train_pred = y_train_pred_prob.argmax(axis = 1)\n",
    "y_test_pred = y_test_pred_prob.argmax(axis = 1)"
   ]
  },
  {
   "cell_type": "code",
   "execution_count": 396,
   "id": "1e7fb43f-09d6-4c15-a28b-c94a698394c2",
   "metadata": {},
   "outputs": [
    {
     "data": {
      "text/plain": [
       "0.7468486638334654"
      ]
     },
     "execution_count": 396,
     "metadata": {},
     "output_type": "execute_result"
    }
   ],
   "source": [
    "np.mean(y_train_pred == y_train.argmax(axis = 1))"
   ]
  },
  {
   "cell_type": "code",
   "execution_count": 397,
   "id": "0b679717-012e-4ef7-9116-21278cabfaa2",
   "metadata": {},
   "outputs": [
    {
     "data": {
      "text/plain": [
       "0.7436793200316935"
      ]
     },
     "execution_count": 397,
     "metadata": {},
     "output_type": "execute_result"
    }
   ],
   "source": [
    "np.mean(y_test_pred == y_test)"
   ]
  },
  {
   "cell_type": "code",
   "execution_count": 398,
   "id": "c3620266-a906-48ce-86cc-b51739d8a763",
   "metadata": {},
   "outputs": [
    {
     "data": {
      "text/plain": [
       "0.8883486598317687"
      ]
     },
     "execution_count": 398,
     "metadata": {},
     "output_type": "execute_result"
    }
   ],
   "source": [
    "np.mean(np.abs(y_train_pred - y_train.argmax(axis = 1))<=1)"
   ]
  },
  {
   "cell_type": "code",
   "execution_count": 399,
   "id": "e9f04cc0-57f9-45b9-8f30-f47475e2aa81",
   "metadata": {},
   "outputs": [
    {
     "data": {
      "text/plain": [
       "0.888772839684026"
      ]
     },
     "execution_count": 399,
     "metadata": {},
     "output_type": "execute_result"
    }
   ],
   "source": [
    "np.mean(np.abs(y_test_pred - y_test)<=1)"
   ]
  },
  {
   "cell_type": "code",
   "execution_count": 400,
   "id": "65ee2989-832b-408c-8b4e-1c53395498ee",
   "metadata": {},
   "outputs": [
    {
     "data": {
      "text/plain": [
       "difference\n",
       "0             0.746849\n",
       "1             0.141500\n",
       "2             0.044631\n",
       "3             0.036580\n",
       "4             0.027560\n",
       "5             0.002881\n",
       "Name: count, dtype: float64"
      ]
     },
     "execution_count": 400,
     "metadata": {},
     "output_type": "execute_result"
    }
   ],
   "source": [
    "pd.DataFrame({\"difference\":np.abs(y_train_pred - y_train.argmax(axis = 1))}).value_counts() / len(y_train_pred)"
   ]
  },
  {
   "cell_type": "code",
   "execution_count": 402,
   "id": "ba22420a-b2c4-47a2-82f7-ab8b307cbc3d",
   "metadata": {},
   "outputs": [
    {
     "data": {
      "text/plain": [
       "difference\n",
       "0             0.743679\n",
       "1             0.145094\n",
       "2             0.044287\n",
       "3             0.036772\n",
       "4             0.027456\n",
       "5             0.002713\n",
       "Name: count, dtype: float64"
      ]
     },
     "execution_count": 402,
     "metadata": {},
     "output_type": "execute_result"
    }
   ],
   "source": [
    "pd.DataFrame({\"difference\":np.abs(y_test_pred - y_test)}).value_counts() / len(y_test_pred)"
   ]
  },
  {
   "cell_type": "code",
   "execution_count": null,
   "id": "2dd94f50-577a-4d9a-bcac-760a3f920485",
   "metadata": {},
   "outputs": [],
   "source": []
  },
  {
   "cell_type": "code",
   "execution_count": null,
   "id": "8d892cd4-ecf5-44fe-9000-3a27da91a110",
   "metadata": {},
   "outputs": [],
   "source": []
  },
  {
   "cell_type": "code",
   "execution_count": null,
   "id": "ef6e18a5-f60d-44d5-b687-873d2fb952e9",
   "metadata": {},
   "outputs": [],
   "source": []
  }
 ],
 "metadata": {
  "kernelspec": {
   "display_name": "Python 3 (ipykernel)",
   "language": "python",
   "name": "python3"
  },
  "language_info": {
   "codemirror_mode": {
    "name": "ipython",
    "version": 3
   },
   "file_extension": ".py",
   "mimetype": "text/x-python",
   "name": "python",
   "nbconvert_exporter": "python",
   "pygments_lexer": "ipython3",
   "version": "3.12.7"
  }
 },
 "nbformat": 4,
 "nbformat_minor": 5
}
