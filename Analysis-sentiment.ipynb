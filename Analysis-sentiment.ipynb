{
 "cells": [
  {
   "cell_type": "code",
   "execution_count": 1,
   "id": "1adf1d7f",
   "metadata": {},
   "outputs": [],
   "source": [
    "# Import Tensorflow & Pathlib librairies\n",
    "import tensorflow as tf \n",
    "import pathlib \n",
    "import pandas as pd \n",
    "import numpy as np\n",
    "import os\n",
    "import io\n",
    "import warnings\n",
    "import keras\n",
    "import regex as re\n",
    "from sklearn.model_selection import train_test_split\n",
    "from tensorflow.keras.layers import Conv1D,Dropout,MaxPooling1D,Flatten\n",
    "from unidecode import unidecode\n",
    "#import en_core_web_md\n",
    "#nlp = en_core_web_md.load()\n",
    "#from wordcloud import WordCloud, STOPWORDS, ImageColorGenerator\n",
    "warnings.filterwarnings('ignore')\n",
    "\n",
    "from sklearn.metrics import accuracy_score,f1_score,precision_score,recall_score,confusion_matrix"
   ]
  },
  {
   "cell_type": "markdown",
   "id": "fc3cf428-f327-4f7f-9454-ea49431c17f3",
   "metadata": {},
   "source": [
    "Load dataset."
   ]
  },
  {
   "cell_type": "code",
   "execution_count": 3,
   "id": "488a151c",
   "metadata": {},
   "outputs": [],
   "source": [
    "df = pd.read_parquet(\"train-00000-of-00001.parquet\")"
   ]
  },
  {
   "cell_type": "code",
   "execution_count": 4,
   "id": "08be2a85",
   "metadata": {},
   "outputs": [
    {
     "data": {
      "text/html": [
       "<div>\n",
       "<style scoped>\n",
       "    .dataframe tbody tr th:only-of-type {\n",
       "        vertical-align: middle;\n",
       "    }\n",
       "\n",
       "    .dataframe tbody tr th {\n",
       "        vertical-align: top;\n",
       "    }\n",
       "\n",
       "    .dataframe thead th {\n",
       "        text-align: right;\n",
       "    }\n",
       "</style>\n",
       "<table border=\"1\" class=\"dataframe\">\n",
       "  <thead>\n",
       "    <tr style=\"text-align: right;\">\n",
       "      <th></th>\n",
       "      <th>text</th>\n",
       "      <th>label</th>\n",
       "    </tr>\n",
       "  </thead>\n",
       "  <tbody>\n",
       "    <tr>\n",
       "      <th>0</th>\n",
       "      <td>i feel awful about it too because it s my job ...</td>\n",
       "      <td>0</td>\n",
       "    </tr>\n",
       "    <tr>\n",
       "      <th>1</th>\n",
       "      <td>im alone i feel awful</td>\n",
       "      <td>0</td>\n",
       "    </tr>\n",
       "    <tr>\n",
       "      <th>2</th>\n",
       "      <td>ive probably mentioned this before but i reall...</td>\n",
       "      <td>1</td>\n",
       "    </tr>\n",
       "    <tr>\n",
       "      <th>3</th>\n",
       "      <td>i was feeling a little low few days back</td>\n",
       "      <td>0</td>\n",
       "    </tr>\n",
       "    <tr>\n",
       "      <th>4</th>\n",
       "      <td>i beleive that i am much more sensitive to oth...</td>\n",
       "      <td>2</td>\n",
       "    </tr>\n",
       "  </tbody>\n",
       "</table>\n",
       "</div>"
      ],
      "text/plain": [
       "                                                text  label\n",
       "0  i feel awful about it too because it s my job ...      0\n",
       "1                              im alone i feel awful      0\n",
       "2  ive probably mentioned this before but i reall...      1\n",
       "3           i was feeling a little low few days back      0\n",
       "4  i beleive that i am much more sensitive to oth...      2"
      ]
     },
     "execution_count": 4,
     "metadata": {},
     "output_type": "execute_result"
    }
   ],
   "source": [
    "df.head()"
   ]
  },
  {
   "cell_type": "code",
   "execution_count": 7,
   "id": "439d93a1",
   "metadata": {},
   "outputs": [
    {
     "data": {
      "text/plain": [
       "(416809, 2)"
      ]
     },
     "execution_count": 7,
     "metadata": {},
     "output_type": "execute_result"
    }
   ],
   "source": [
    "df.shape"
   ]
  },
  {
   "cell_type": "code",
   "execution_count": 9,
   "id": "0e74d98f",
   "metadata": {},
   "outputs": [
    {
     "data": {
      "text/plain": [
       "text     0\n",
       "label    0\n",
       "dtype: int64"
      ]
     },
     "execution_count": 9,
     "metadata": {},
     "output_type": "execute_result"
    }
   ],
   "source": [
    "df.isnull().sum()"
   ]
  },
  {
   "cell_type": "code",
   "execution_count": 13,
   "id": "6530a77f-c8c5-4b68-af73-6b9cb7567744",
   "metadata": {},
   "outputs": [
    {
     "data": {
      "text/plain": [
       "label\n",
       "1    0.338445\n",
       "0    0.290749\n",
       "3    0.137514\n",
       "4    0.114470\n",
       "2    0.082901\n",
       "5    0.035921\n",
       "Name: count, dtype: float64"
      ]
     },
     "execution_count": 13,
     "metadata": {},
     "output_type": "execute_result"
    }
   ],
   "source": [
    "df.label.value_counts() / len(df)"
   ]
  },
  {
   "cell_type": "markdown",
   "id": "49405a57-6a00-4e7d-9fb7-0fee61906aed",
   "metadata": {},
   "source": [
    "Pre-processing"
   ]
  },
  {
   "cell_type": "code",
   "execution_count": 7,
   "id": "8c986caf",
   "metadata": {},
   "outputs": [
    {
     "name": "stderr",
     "output_type": "stream",
     "text": [
      "[nltk_data] Downloading package stopwords to\n",
      "[nltk_data]     C:\\Users\\matthieu.marechal\\AppData\\Roaming\\nltk_data..\n",
      "[nltk_data]     .\n",
      "[nltk_data]   Package stopwords is already up-to-date!\n",
      "[nltk_data] Downloading package punkt to\n",
      "[nltk_data]     C:\\Users\\matthieu.marechal\\AppData\\Roaming\\nltk_data..\n",
      "[nltk_data]     .\n",
      "[nltk_data]   Package punkt is already up-to-date!\n"
     ]
    }
   ],
   "source": [
    "import nltk\n",
    "from nltk.corpus import stopwords\n",
    "nltk.download('stopwords')\n",
    "nltk.download('punkt')\n",
    "stops = set(stopwords.words('english'))\n",
    "import spacy\n",
    "sp = spacy.load('en_core_web_sm')\n",
    "\n",
    "spacy_stopwords = sp.Defaults.stop_words\n",
    "\n",
    "stops = stops.union(spacy_stopwords)\n",
    "\n",
    "stops = stops.union({' ','.',',','',\"i'm\",'u','rt','http','like','//t','girl','girls',\"'\",'\"','mkr'})\n",
    "\n",
    "def remove_stop_words(words):\n",
    "\n",
    "   return [word.lower() for word in words if word.lower() not in stops]  \n",
    "\n",
    "import textcleaner as tc\n",
    "\n",
    "\n",
    "def clean_text(text): \n",
    "    \n",
    "  token_text = nlp(text)\n",
    "    \n",
    "  text = [element.lemma_.lower() for element in token_text]  \n",
    "\n",
    "  clean_text = remove_stop_words(text)  \n",
    "    \n",
    "  text = \" \".join(clean_text).strip().lower()  \n",
    "  \n",
    "  text = re.sub(r'[0-9]+','',text).strip()\n",
    "  text = re.sub(r'[@]+','@',text).strip()\n",
    "  text = re.sub(r'@','@ ', text).strip()  \n",
    "  text = re.sub(r'[#]+','#',text).strip()\n",
    "  text = re.sub(r'#','# ', text).strip() \n",
    "#  text = re.sub(r'\\x[0-9]+','',text).strip()  \n",
    "  text = re.sub(r'rt[\\s]+','', text).strip()\n",
    "  text = re.sub(r\"[,.\\\"!$%^&*(){}?/;`~:<>_+=-]\", \"\", text).strip()\n",
    "  text = re.sub(r'http[A-Za-z0-9]+','', text).strip()\n",
    "  text = re.sub(r'bbc','',text) .strip() \n",
    "  emoji = re.compile(\"[\"\n",
    "                           u\"\\U0001F600-\\U0001FFFF\"  # emoticons\n",
    "                           u\"\\U0001F300-\\U0001F5FF\"  # symbols & pictographs\n",
    "                           u\"\\U0001F680-\\U0001F6FF\"  # transport & map symbols\n",
    "                           u\"\\U0001F1E0-\\U0001F1FF\"  # flags (iOS)\n",
    "                           u\"\\U00002702-\\U000027B0\"\n",
    "                           u\"\\U000024C2-\\U0001F251\"\n",
    "                           \"]+\", flags=re.UNICODE)\n",
    "  text = emoji.sub(r'', text).strip()   \n",
    "  text = re.sub(r\"i'm\", \"i am\", text).strip()\n",
    "  text = re.sub(r\"he's\", \"he is\", text).strip()\n",
    "  text = re.sub(r\"she's\", \"she is\", text).strip()\n",
    "  text = re.sub(r\"that's\", \"that is\", text).strip()        \n",
    "  text = re.sub(r\"what's\", \"what is\", text).strip()\n",
    "  text = re.sub(r\"where's\", \"where is\", text).strip() \n",
    "  text = re.sub(r\"\\'ll\", \" will\", text).strip()  \n",
    "  text = re.sub(r\"\\'ve\", \" have\", text).strip()  \n",
    "  text = re.sub(r\"\\'re\", \" are\", text).strip()\n",
    "  text = re.sub(r\"\\'d\", \" would\", text).strip()\n",
    "  text = re.sub(r\"\\'ve\", \" have\", text).strip()\n",
    "  text = re.sub(r\"won't\", \"will not\", text).strip()\n",
    "  text = re.sub(r\"don't\", \"do not\", text).strip()\n",
    "  text = re.sub(r\"did't\", \"did not\", text).strip()\n",
    "  text = re.sub(r\"can't\", \"can not\", text).strip()\n",
    "  text = re.sub(r\"it's\", \"it is\", text).strip()\n",
    "  text = re.sub(r\"couldn't\", \"could not\", text).strip()\n",
    "  text = re.sub(r\"have't\", \"have not\", text).strip()\n",
    "  text = re.sub(r'[\\s]+',' ',text)\n",
    "    \n",
    "  text = text.lower()   \n",
    "    \n",
    "#  text = remove_stop_words2(text).strip()\n",
    "\n",
    "#  text = \" \".join(text).strip()\n",
    " \n",
    "  return text.split(\" \")"
   ]
  },
  {
   "cell_type": "code",
   "execution_count": 8,
   "id": "1b98fae8",
   "metadata": {},
   "outputs": [
    {
     "data": {
      "text/html": [
       "<div>\n",
       "<style scoped>\n",
       "    .dataframe tbody tr th:only-of-type {\n",
       "        vertical-align: middle;\n",
       "    }\n",
       "\n",
       "    .dataframe tbody tr th {\n",
       "        vertical-align: top;\n",
       "    }\n",
       "\n",
       "    .dataframe thead th {\n",
       "        text-align: right;\n",
       "    }\n",
       "</style>\n",
       "<table border=\"1\" class=\"dataframe\">\n",
       "  <thead>\n",
       "    <tr style=\"text-align: right;\">\n",
       "      <th></th>\n",
       "      <th>text</th>\n",
       "      <th>label</th>\n",
       "      <th>token_text</th>\n",
       "      <th>text_cleaned</th>\n",
       "    </tr>\n",
       "  </thead>\n",
       "  <tbody>\n",
       "    <tr>\n",
       "      <th>0</th>\n",
       "      <td>i feel awful about it too because it s my job ...</td>\n",
       "      <td>0</td>\n",
       "      <td>[feel, awful, job, position, succeed, happen]</td>\n",
       "      <td>feel awful job position succeed happen</td>\n",
       "    </tr>\n",
       "    <tr>\n",
       "      <th>1</th>\n",
       "      <td>im alone i feel awful</td>\n",
       "      <td>0</td>\n",
       "      <td>[feel, awful]</td>\n",
       "      <td>feel awful</td>\n",
       "    </tr>\n",
       "    <tr>\n",
       "      <th>2</th>\n",
       "      <td>ive probably mentioned this before but i reall...</td>\n",
       "      <td>1</td>\n",
       "      <td>[probably, mention, feel, proud, actually, new...</td>\n",
       "      <td>probably mention feel proud actually new year ...</td>\n",
       "    </tr>\n",
       "    <tr>\n",
       "      <th>3</th>\n",
       "      <td>i was feeling a little low few days back</td>\n",
       "      <td>0</td>\n",
       "      <td>[feel, little, low, day]</td>\n",
       "      <td>feel little low day</td>\n",
       "    </tr>\n",
       "    <tr>\n",
       "      <th>4</th>\n",
       "      <td>i beleive that i am much more sensitive to oth...</td>\n",
       "      <td>2</td>\n",
       "      <td>[beleive, sensitive, people, feeling, tend, co...</td>\n",
       "      <td>beleive sensitive people feeling tend compassi...</td>\n",
       "    </tr>\n",
       "  </tbody>\n",
       "</table>\n",
       "</div>"
      ],
      "text/plain": [
       "                                                text  label  \\\n",
       "0  i feel awful about it too because it s my job ...      0   \n",
       "1                              im alone i feel awful      0   \n",
       "2  ive probably mentioned this before but i reall...      1   \n",
       "3           i was feeling a little low few days back      0   \n",
       "4  i beleive that i am much more sensitive to oth...      2   \n",
       "\n",
       "                                          token_text  \\\n",
       "0      [feel, awful, job, position, succeed, happen]   \n",
       "1                                      [feel, awful]   \n",
       "2  [probably, mention, feel, proud, actually, new...   \n",
       "3                           [feel, little, low, day]   \n",
       "4  [beleive, sensitive, people, feeling, tend, co...   \n",
       "\n",
       "                                        text_cleaned  \n",
       "0             feel awful job position succeed happen  \n",
       "1                                         feel awful  \n",
       "2  probably mention feel proud actually new year ...  \n",
       "3                                feel little low day  \n",
       "4  beleive sensitive people feeling tend compassi...  "
      ]
     },
     "execution_count": 8,
     "metadata": {},
     "output_type": "execute_result"
    }
   ],
   "source": [
    "df['token_text'] = df['text'].apply(clean_text)\n",
    "\n",
    "df['text_cleaned'] = df['token_text'].apply(lambda x : \" \".join(x))\n",
    "df.head()"
   ]
  },
  {
   "cell_type": "code",
   "execution_count": 18,
   "id": "09168611-f452-4b7f-96aa-11c47b69efe8",
   "metadata": {},
   "outputs": [],
   "source": [
    "df.to_csv(\"df_clean.csv\")"
   ]
  },
  {
   "cell_type": "code",
   "execution_count": 15,
   "id": "deaa344c-efef-477b-935c-051b3177b92e",
   "metadata": {},
   "outputs": [],
   "source": [
    "df = pd.read_csv(\"df_clean.csv\",index_col = 0)"
   ]
  },
  {
   "cell_type": "code",
   "execution_count": 16,
   "id": "11081008-7f4a-4b98-9885-967f7a7cc4b3",
   "metadata": {},
   "outputs": [
    {
     "data": {
      "text/html": [
       "<div>\n",
       "<style scoped>\n",
       "    .dataframe tbody tr th:only-of-type {\n",
       "        vertical-align: middle;\n",
       "    }\n",
       "\n",
       "    .dataframe tbody tr th {\n",
       "        vertical-align: top;\n",
       "    }\n",
       "\n",
       "    .dataframe thead th {\n",
       "        text-align: right;\n",
       "    }\n",
       "</style>\n",
       "<table border=\"1\" class=\"dataframe\">\n",
       "  <thead>\n",
       "    <tr style=\"text-align: right;\">\n",
       "      <th></th>\n",
       "      <th>text</th>\n",
       "      <th>label</th>\n",
       "      <th>token_text</th>\n",
       "      <th>text_cleaned</th>\n",
       "    </tr>\n",
       "  </thead>\n",
       "  <tbody>\n",
       "    <tr>\n",
       "      <th>0</th>\n",
       "      <td>i feel awful about it too because it s my job ...</td>\n",
       "      <td>0</td>\n",
       "      <td>['feel', 'awful', 'job', 'position', 'succeed'...</td>\n",
       "      <td>feel awful job position succeed happen</td>\n",
       "    </tr>\n",
       "    <tr>\n",
       "      <th>1</th>\n",
       "      <td>im alone i feel awful</td>\n",
       "      <td>0</td>\n",
       "      <td>['feel', 'awful']</td>\n",
       "      <td>feel awful</td>\n",
       "    </tr>\n",
       "    <tr>\n",
       "      <th>2</th>\n",
       "      <td>ive probably mentioned this before but i reall...</td>\n",
       "      <td>1</td>\n",
       "      <td>['probably', 'mention', 'feel', 'proud', 'actu...</td>\n",
       "      <td>probably mention feel proud actually new year ...</td>\n",
       "    </tr>\n",
       "    <tr>\n",
       "      <th>3</th>\n",
       "      <td>i was feeling a little low few days back</td>\n",
       "      <td>0</td>\n",
       "      <td>['feel', 'little', 'low', 'day']</td>\n",
       "      <td>feel little low day</td>\n",
       "    </tr>\n",
       "    <tr>\n",
       "      <th>4</th>\n",
       "      <td>i beleive that i am much more sensitive to oth...</td>\n",
       "      <td>2</td>\n",
       "      <td>['beleive', 'sensitive', 'people', 'feeling', ...</td>\n",
       "      <td>beleive sensitive people feeling tend compassi...</td>\n",
       "    </tr>\n",
       "  </tbody>\n",
       "</table>\n",
       "</div>"
      ],
      "text/plain": [
       "                                                text  label  \\\n",
       "0  i feel awful about it too because it s my job ...      0   \n",
       "1                              im alone i feel awful      0   \n",
       "2  ive probably mentioned this before but i reall...      1   \n",
       "3           i was feeling a little low few days back      0   \n",
       "4  i beleive that i am much more sensitive to oth...      2   \n",
       "\n",
       "                                          token_text  \\\n",
       "0  ['feel', 'awful', 'job', 'position', 'succeed'...   \n",
       "1                                  ['feel', 'awful']   \n",
       "2  ['probably', 'mention', 'feel', 'proud', 'actu...   \n",
       "3                   ['feel', 'little', 'low', 'day']   \n",
       "4  ['beleive', 'sensitive', 'people', 'feeling', ...   \n",
       "\n",
       "                                        text_cleaned  \n",
       "0             feel awful job position succeed happen  \n",
       "1                                         feel awful  \n",
       "2  probably mention feel proud actually new year ...  \n",
       "3                                feel little low day  \n",
       "4  beleive sensitive people feeling tend compassi...  "
      ]
     },
     "execution_count": 16,
     "metadata": {},
     "output_type": "execute_result"
    }
   ],
   "source": [
    "df.head()"
   ]
  },
  {
   "cell_type": "markdown",
   "id": "e534d8a0-f5ac-445e-ad85-8ff717d9a75e",
   "metadata": {},
   "source": [
    "From texts to sequences."
   ]
  },
  {
   "cell_type": "code",
   "execution_count": 26,
   "id": "8a7666da-edaa-4c62-9411-9df9fbb11493",
   "metadata": {},
   "outputs": [],
   "source": [
    "df[\"text_cleaned\"] = df.text_cleaned.astype(str)"
   ]
  },
  {
   "cell_type": "code",
   "execution_count": 28,
   "id": "2247fefa-8494-4400-9631-d33d7cfc93ab",
   "metadata": {},
   "outputs": [],
   "source": [
    "import numpy as np\n",
    "tokenizer1 = tf.keras.preprocessing.text.Tokenizer(num_words=1000) # instanciate the tokenizer\n",
    "tokenizer1.fit_on_texts(df.text_cleaned)\n",
    "df[\"text_encoded\"] = tokenizer1.texts_to_sequences(df.text_cleaned)\n",
    "df[\"len_text\"] = df[\"text_encoded\"].apply(lambda x: len(x))"
   ]
  },
  {
   "cell_type": "code",
   "execution_count": 30,
   "id": "0e3cc0c9-e77b-467e-99c1-d582841937b1",
   "metadata": {},
   "outputs": [],
   "source": [
    "df1 = df[df[\"len_text\"]!=0]\n",
    "\n",
    "text_pad1 = tf.keras.preprocessing.sequence.pad_sequences(df1.text_encoded, padding=\"post\")\n",
    "\n",
    "y = df1['label'].values"
   ]
  },
  {
   "cell_type": "markdown",
   "id": "bfc63f6e-12f3-44a2-b424-d780ec4e672e",
   "metadata": {},
   "source": [
    "Split between train, test and validation datasets. "
   ]
  },
  {
   "cell_type": "code",
   "execution_count": 31,
   "id": "6c46365a-ec3c-4068-aa95-acee400fac5e",
   "metadata": {},
   "outputs": [],
   "source": [
    "X_train,X_testi,y_train,y_testi = train_test_split(text_pad1,y,test_size = 0.4,stratify = y)\n",
    "\n",
    "X_test,X_val,y_test,y_val = train_test_split(X_testi,y_testi,test_size = 0.5, stratify = y_testi)"
   ]
  },
  {
   "cell_type": "markdown",
   "id": "9962ddf4-f1b2-4017-b9aa-253a8d6f0726",
   "metadata": {},
   "source": [
    "Transforme y_train into a matrix with 0 and 1 depending of the class. "
   ]
  },
  {
   "cell_type": "code",
   "execution_count": 32,
   "id": "5a2b80dc-b3c7-4983-937f-8754358e548c",
   "metadata": {},
   "outputs": [],
   "source": [
    "y_train = tf.keras.utils.to_categorical(y_train, num_classes=6)\n",
    "y_val = tf.keras.utils.to_categorical(y_val, num_classes=6)"
   ]
  },
  {
   "cell_type": "code",
   "execution_count": 34,
   "id": "0753b68d-a954-4f4f-a03d-8dfc4f954394",
   "metadata": {},
   "outputs": [
    {
     "data": {
      "text/plain": [
       "(249894, 31)"
      ]
     },
     "execution_count": 34,
     "metadata": {},
     "output_type": "execute_result"
    }
   ],
   "source": [
    "X_train.shape"
   ]
  },
  {
   "cell_type": "markdown",
   "id": "f1ff7fec-52dc-4dad-838a-5cd739ce8e0a",
   "metadata": {},
   "source": [
    "Design of the neural network. "
   ]
  },
  {
   "cell_type": "code",
   "execution_count": 38,
   "id": "97abb865-f49a-45bf-b48f-d6e3d6f70823",
   "metadata": {},
   "outputs": [],
   "source": [
    "vocab_size = tokenizer1.num_words\n",
    "model1 = keras.Sequential([\n",
    "                  # Couche d'Input Word Embedding  \n",
    "                  keras.layers.Embedding(vocab_size+1, 128, input_shape=[X_train.shape[1],],\\\n",
    "                                         name=\"embedding\"),\n",
    "                  Conv1D(\n",
    "filters = 14, # the number of neurons on the convolutional layer\n",
    "kernel_size = (3), # the number of elements of the input the neuron will analyse at once\n",
    "strides = 1, # how should the filters move along the conv dimension on the input\n",
    "padding = \"same\", # \"valid\" means no padding, \"same\" means output shape = input shape\n",
    "activation = \"relu\", # the activation function\n",
    "kernel_regularizer = 'l2' # regularization on the neuron's parameters\n",
    "),\n",
    "                      keras.layers.GlobalAveragePooling1D(),\n",
    "#                  keras.layers.Dense(50, activation='relu'),\n",
    "                  keras.layers.Dropout(0.2),\n",
    "                  # Couche Dense classique\n",
    "                  tf.keras.layers.Dense(16, activation='relu'),\n",
    "                  keras.layers.Dropout(0.4),\n",
    "#                  tf.keras.layers.Dense(3, activation='relu'),\n",
    "#                  keras.layers.Dropout(0.2),\n",
    "                  # Couche de sortie avec le nombre de neurones en sortie égale au nombre de classe avec fonction softmax\n",
    "                  keras.layers.Dense(6, activation=\"softmax\"),\n",
    "])"
   ]
  },
  {
   "cell_type": "code",
   "execution_count": 40,
   "id": "9abeea25-a7db-4679-926f-10342c8df9dc",
   "metadata": {},
   "outputs": [
    {
     "data": {
      "text/html": [
       "<pre style=\"white-space:pre;overflow-x:auto;line-height:normal;font-family:Menlo,'DejaVu Sans Mono',consolas,'Courier New',monospace\"><span style=\"font-weight: bold\">Model: \"sequential\"</span>\n",
       "</pre>\n"
      ],
      "text/plain": [
       "\u001b[1mModel: \"sequential\"\u001b[0m\n"
      ]
     },
     "metadata": {},
     "output_type": "display_data"
    },
    {
     "data": {
      "text/html": [
       "<pre style=\"white-space:pre;overflow-x:auto;line-height:normal;font-family:Menlo,'DejaVu Sans Mono',consolas,'Courier New',monospace\">┏━━━━━━━━━━━━━━━━━━━━━━━━━━━━━━━━━━━━━━┳━━━━━━━━━━━━━━━━━━━━━━━━━━━━━┳━━━━━━━━━━━━━━━━━┓\n",
       "┃<span style=\"font-weight: bold\"> Layer (type)                         </span>┃<span style=\"font-weight: bold\"> Output Shape                </span>┃<span style=\"font-weight: bold\">         Param # </span>┃\n",
       "┡━━━━━━━━━━━━━━━━━━━━━━━━━━━━━━━━━━━━━━╇━━━━━━━━━━━━━━━━━━━━━━━━━━━━━╇━━━━━━━━━━━━━━━━━┩\n",
       "│ embedding (<span style=\"color: #0087ff; text-decoration-color: #0087ff\">Embedding</span>)                │ (<span style=\"color: #00d7ff; text-decoration-color: #00d7ff\">None</span>, <span style=\"color: #00af00; text-decoration-color: #00af00\">31</span>, <span style=\"color: #00af00; text-decoration-color: #00af00\">128</span>)             │         <span style=\"color: #00af00; text-decoration-color: #00af00\">128,128</span> │\n",
       "├──────────────────────────────────────┼─────────────────────────────┼─────────────────┤\n",
       "│ conv1d (<span style=\"color: #0087ff; text-decoration-color: #0087ff\">Conv1D</span>)                      │ (<span style=\"color: #00d7ff; text-decoration-color: #00d7ff\">None</span>, <span style=\"color: #00af00; text-decoration-color: #00af00\">31</span>, <span style=\"color: #00af00; text-decoration-color: #00af00\">14</span>)              │           <span style=\"color: #00af00; text-decoration-color: #00af00\">5,390</span> │\n",
       "├──────────────────────────────────────┼─────────────────────────────┼─────────────────┤\n",
       "│ global_average_pooling1d             │ (<span style=\"color: #00d7ff; text-decoration-color: #00d7ff\">None</span>, <span style=\"color: #00af00; text-decoration-color: #00af00\">14</span>)                  │               <span style=\"color: #00af00; text-decoration-color: #00af00\">0</span> │\n",
       "│ (<span style=\"color: #0087ff; text-decoration-color: #0087ff\">GlobalAveragePooling1D</span>)             │                             │                 │\n",
       "├──────────────────────────────────────┼─────────────────────────────┼─────────────────┤\n",
       "│ dropout (<span style=\"color: #0087ff; text-decoration-color: #0087ff\">Dropout</span>)                    │ (<span style=\"color: #00d7ff; text-decoration-color: #00d7ff\">None</span>, <span style=\"color: #00af00; text-decoration-color: #00af00\">14</span>)                  │               <span style=\"color: #00af00; text-decoration-color: #00af00\">0</span> │\n",
       "├──────────────────────────────────────┼─────────────────────────────┼─────────────────┤\n",
       "│ dense (<span style=\"color: #0087ff; text-decoration-color: #0087ff\">Dense</span>)                        │ (<span style=\"color: #00d7ff; text-decoration-color: #00d7ff\">None</span>, <span style=\"color: #00af00; text-decoration-color: #00af00\">16</span>)                  │             <span style=\"color: #00af00; text-decoration-color: #00af00\">240</span> │\n",
       "├──────────────────────────────────────┼─────────────────────────────┼─────────────────┤\n",
       "│ dropout_1 (<span style=\"color: #0087ff; text-decoration-color: #0087ff\">Dropout</span>)                  │ (<span style=\"color: #00d7ff; text-decoration-color: #00d7ff\">None</span>, <span style=\"color: #00af00; text-decoration-color: #00af00\">16</span>)                  │               <span style=\"color: #00af00; text-decoration-color: #00af00\">0</span> │\n",
       "├──────────────────────────────────────┼─────────────────────────────┼─────────────────┤\n",
       "│ dense_1 (<span style=\"color: #0087ff; text-decoration-color: #0087ff\">Dense</span>)                      │ (<span style=\"color: #00d7ff; text-decoration-color: #00d7ff\">None</span>, <span style=\"color: #00af00; text-decoration-color: #00af00\">6</span>)                   │             <span style=\"color: #00af00; text-decoration-color: #00af00\">102</span> │\n",
       "└──────────────────────────────────────┴─────────────────────────────┴─────────────────┘\n",
       "</pre>\n"
      ],
      "text/plain": [
       "┏━━━━━━━━━━━━━━━━━━━━━━━━━━━━━━━━━━━━━━┳━━━━━━━━━━━━━━━━━━━━━━━━━━━━━┳━━━━━━━━━━━━━━━━━┓\n",
       "┃\u001b[1m \u001b[0m\u001b[1mLayer (type)                        \u001b[0m\u001b[1m \u001b[0m┃\u001b[1m \u001b[0m\u001b[1mOutput Shape               \u001b[0m\u001b[1m \u001b[0m┃\u001b[1m \u001b[0m\u001b[1m        Param #\u001b[0m\u001b[1m \u001b[0m┃\n",
       "┡━━━━━━━━━━━━━━━━━━━━━━━━━━━━━━━━━━━━━━╇━━━━━━━━━━━━━━━━━━━━━━━━━━━━━╇━━━━━━━━━━━━━━━━━┩\n",
       "│ embedding (\u001b[38;5;33mEmbedding\u001b[0m)                │ (\u001b[38;5;45mNone\u001b[0m, \u001b[38;5;34m31\u001b[0m, \u001b[38;5;34m128\u001b[0m)             │         \u001b[38;5;34m128,128\u001b[0m │\n",
       "├──────────────────────────────────────┼─────────────────────────────┼─────────────────┤\n",
       "│ conv1d (\u001b[38;5;33mConv1D\u001b[0m)                      │ (\u001b[38;5;45mNone\u001b[0m, \u001b[38;5;34m31\u001b[0m, \u001b[38;5;34m14\u001b[0m)              │           \u001b[38;5;34m5,390\u001b[0m │\n",
       "├──────────────────────────────────────┼─────────────────────────────┼─────────────────┤\n",
       "│ global_average_pooling1d             │ (\u001b[38;5;45mNone\u001b[0m, \u001b[38;5;34m14\u001b[0m)                  │               \u001b[38;5;34m0\u001b[0m │\n",
       "│ (\u001b[38;5;33mGlobalAveragePooling1D\u001b[0m)             │                             │                 │\n",
       "├──────────────────────────────────────┼─────────────────────────────┼─────────────────┤\n",
       "│ dropout (\u001b[38;5;33mDropout\u001b[0m)                    │ (\u001b[38;5;45mNone\u001b[0m, \u001b[38;5;34m14\u001b[0m)                  │               \u001b[38;5;34m0\u001b[0m │\n",
       "├──────────────────────────────────────┼─────────────────────────────┼─────────────────┤\n",
       "│ dense (\u001b[38;5;33mDense\u001b[0m)                        │ (\u001b[38;5;45mNone\u001b[0m, \u001b[38;5;34m16\u001b[0m)                  │             \u001b[38;5;34m240\u001b[0m │\n",
       "├──────────────────────────────────────┼─────────────────────────────┼─────────────────┤\n",
       "│ dropout_1 (\u001b[38;5;33mDropout\u001b[0m)                  │ (\u001b[38;5;45mNone\u001b[0m, \u001b[38;5;34m16\u001b[0m)                  │               \u001b[38;5;34m0\u001b[0m │\n",
       "├──────────────────────────────────────┼─────────────────────────────┼─────────────────┤\n",
       "│ dense_1 (\u001b[38;5;33mDense\u001b[0m)                      │ (\u001b[38;5;45mNone\u001b[0m, \u001b[38;5;34m6\u001b[0m)                   │             \u001b[38;5;34m102\u001b[0m │\n",
       "└──────────────────────────────────────┴─────────────────────────────┴─────────────────┘\n"
      ]
     },
     "metadata": {},
     "output_type": "display_data"
    },
    {
     "data": {
      "text/html": [
       "<pre style=\"white-space:pre;overflow-x:auto;line-height:normal;font-family:Menlo,'DejaVu Sans Mono',consolas,'Courier New',monospace\"><span style=\"font-weight: bold\"> Total params: </span><span style=\"color: #00af00; text-decoration-color: #00af00\">133,860</span> (522.89 KB)\n",
       "</pre>\n"
      ],
      "text/plain": [
       "\u001b[1m Total params: \u001b[0m\u001b[38;5;34m133,860\u001b[0m (522.89 KB)\n"
      ]
     },
     "metadata": {},
     "output_type": "display_data"
    },
    {
     "data": {
      "text/html": [
       "<pre style=\"white-space:pre;overflow-x:auto;line-height:normal;font-family:Menlo,'DejaVu Sans Mono',consolas,'Courier New',monospace\"><span style=\"font-weight: bold\"> Trainable params: </span><span style=\"color: #00af00; text-decoration-color: #00af00\">133,860</span> (522.89 KB)\n",
       "</pre>\n"
      ],
      "text/plain": [
       "\u001b[1m Trainable params: \u001b[0m\u001b[38;5;34m133,860\u001b[0m (522.89 KB)\n"
      ]
     },
     "metadata": {},
     "output_type": "display_data"
    },
    {
     "data": {
      "text/html": [
       "<pre style=\"white-space:pre;overflow-x:auto;line-height:normal;font-family:Menlo,'DejaVu Sans Mono',consolas,'Courier New',monospace\"><span style=\"font-weight: bold\"> Non-trainable params: </span><span style=\"color: #00af00; text-decoration-color: #00af00\">0</span> (0.00 B)\n",
       "</pre>\n"
      ],
      "text/plain": [
       "\u001b[1m Non-trainable params: \u001b[0m\u001b[38;5;34m0\u001b[0m (0.00 B)\n"
      ]
     },
     "metadata": {},
     "output_type": "display_data"
    }
   ],
   "source": [
    "model1.summary()"
   ]
  },
  {
   "cell_type": "markdown",
   "id": "0c41abbf-86df-43b3-86f2-126ee7d78c6a",
   "metadata": {},
   "source": [
    "Fitting the neural network"
   ]
  },
  {
   "cell_type": "code",
   "execution_count": 42,
   "id": "b14cdb95-3022-4674-b213-0335529da003",
   "metadata": {},
   "outputs": [
    {
     "name": "stdout",
     "output_type": "stream",
     "text": [
      "Epoch 1/25\n",
      "\u001b[1m50/50\u001b[0m \u001b[32m━━━━━━━━━━━━━━━━━━━━\u001b[0m\u001b[37m\u001b[0m \u001b[1m8s\u001b[0m 101ms/step - loss: 1.9161 - mean_absolute_error: 0.2706 - val_loss: 1.7030 - val_mean_absolute_error: 0.2643\n",
      "Epoch 2/25\n",
      "\u001b[1m50/50\u001b[0m \u001b[32m━━━━━━━━━━━━━━━━━━━━\u001b[0m\u001b[37m\u001b[0m \u001b[1m5s\u001b[0m 107ms/step - loss: 1.7053 - mean_absolute_error: 0.2615 - val_loss: 1.6272 - val_mean_absolute_error: 0.2599\n",
      "Epoch 3/25\n",
      "\u001b[1m50/50\u001b[0m \u001b[32m━━━━━━━━━━━━━━━━━━━━\u001b[0m\u001b[37m\u001b[0m \u001b[1m4s\u001b[0m 86ms/step - loss: 1.6328 - mean_absolute_error: 0.2581 - val_loss: 1.5923 - val_mean_absolute_error: 0.2556\n",
      "Epoch 4/25\n",
      "\u001b[1m50/50\u001b[0m \u001b[32m━━━━━━━━━━━━━━━━━━━━\u001b[0m\u001b[37m\u001b[0m \u001b[1m5s\u001b[0m 97ms/step - loss: 1.6363 - mean_absolute_error: 0.2589 - val_loss: 1.5901 - val_mean_absolute_error: 0.2580\n",
      "Epoch 5/25\n",
      "\u001b[1m50/50\u001b[0m \u001b[32m━━━━━━━━━━━━━━━━━━━━\u001b[0m\u001b[37m\u001b[0m \u001b[1m4s\u001b[0m 80ms/step - loss: 1.5953 - mean_absolute_error: 0.2560 - val_loss: 1.5730 - val_mean_absolute_error: 0.2551\n",
      "Epoch 6/25\n",
      "\u001b[1m50/50\u001b[0m \u001b[32m━━━━━━━━━━━━━━━━━━━━\u001b[0m\u001b[37m\u001b[0m \u001b[1m4s\u001b[0m 76ms/step - loss: 1.5885 - mean_absolute_error: 0.2557 - val_loss: 1.5576 - val_mean_absolute_error: 0.2538\n",
      "Epoch 7/25\n",
      "\u001b[1m50/50\u001b[0m \u001b[32m━━━━━━━━━━━━━━━━━━━━\u001b[0m\u001b[37m\u001b[0m \u001b[1m3s\u001b[0m 69ms/step - loss: 1.5839 - mean_absolute_error: 0.2552 - val_loss: 1.5092 - val_mean_absolute_error: 0.2507\n",
      "Epoch 8/25\n",
      "\u001b[1m50/50\u001b[0m \u001b[32m━━━━━━━━━━━━━━━━━━━━\u001b[0m\u001b[37m\u001b[0m \u001b[1m3s\u001b[0m 62ms/step - loss: 1.4966 - mean_absolute_error: 0.2455 - val_loss: 1.4465 - val_mean_absolute_error: 0.2387\n",
      "Epoch 9/25\n",
      "\u001b[1m50/50\u001b[0m \u001b[32m━━━━━━━━━━━━━━━━━━━━\u001b[0m\u001b[37m\u001b[0m \u001b[1m4s\u001b[0m 82ms/step - loss: 1.4554 - mean_absolute_error: 0.2394 - val_loss: 1.3806 - val_mean_absolute_error: 0.2351\n",
      "Epoch 10/25\n",
      "\u001b[1m50/50\u001b[0m \u001b[32m━━━━━━━━━━━━━━━━━━━━\u001b[0m\u001b[37m\u001b[0m \u001b[1m4s\u001b[0m 71ms/step - loss: 1.4141 - mean_absolute_error: 0.2346 - val_loss: 1.3214 - val_mean_absolute_error: 0.2268\n",
      "Epoch 11/25\n",
      "\u001b[1m50/50\u001b[0m \u001b[32m━━━━━━━━━━━━━━━━━━━━\u001b[0m\u001b[37m\u001b[0m \u001b[1m3s\u001b[0m 61ms/step - loss: 1.3700 - mean_absolute_error: 0.2297 - val_loss: 1.2730 - val_mean_absolute_error: 0.2175\n",
      "Epoch 12/25\n",
      "\u001b[1m50/50\u001b[0m \u001b[32m━━━━━━━━━━━━━━━━━━━━\u001b[0m\u001b[37m\u001b[0m \u001b[1m3s\u001b[0m 54ms/step - loss: 1.3552 - mean_absolute_error: 0.2267 - val_loss: 1.2450 - val_mean_absolute_error: 0.2154\n",
      "Epoch 13/25\n",
      "\u001b[1m50/50\u001b[0m \u001b[32m━━━━━━━━━━━━━━━━━━━━\u001b[0m\u001b[37m\u001b[0m \u001b[1m3s\u001b[0m 67ms/step - loss: 1.3064 - mean_absolute_error: 0.2191 - val_loss: 1.2316 - val_mean_absolute_error: 0.2158\n",
      "Epoch 14/25\n",
      "\u001b[1m50/50\u001b[0m \u001b[32m━━━━━━━━━━━━━━━━━━━━\u001b[0m\u001b[37m\u001b[0m \u001b[1m3s\u001b[0m 58ms/step - loss: 1.3162 - mean_absolute_error: 0.2195 - val_loss: 1.2072 - val_mean_absolute_error: 0.2109\n",
      "Epoch 15/25\n",
      "\u001b[1m50/50\u001b[0m \u001b[32m━━━━━━━━━━━━━━━━━━━━\u001b[0m\u001b[37m\u001b[0m \u001b[1m3s\u001b[0m 63ms/step - loss: 1.2756 - mean_absolute_error: 0.2155 - val_loss: 1.1896 - val_mean_absolute_error: 0.2094\n",
      "Epoch 16/25\n",
      "\u001b[1m50/50\u001b[0m \u001b[32m━━━━━━━━━━━━━━━━━━━━\u001b[0m\u001b[37m\u001b[0m \u001b[1m3s\u001b[0m 71ms/step - loss: 1.2664 - mean_absolute_error: 0.2151 - val_loss: 1.1674 - val_mean_absolute_error: 0.2066\n",
      "Epoch 17/25\n",
      "\u001b[1m50/50\u001b[0m \u001b[32m━━━━━━━━━━━━━━━━━━━━\u001b[0m\u001b[37m\u001b[0m \u001b[1m4s\u001b[0m 74ms/step - loss: 1.2469 - mean_absolute_error: 0.2121 - val_loss: 1.1479 - val_mean_absolute_error: 0.2038\n",
      "Epoch 18/25\n",
      "\u001b[1m50/50\u001b[0m \u001b[32m━━━━━━━━━━━━━━━━━━━━\u001b[0m\u001b[37m\u001b[0m \u001b[1m4s\u001b[0m 74ms/step - loss: 1.1995 - mean_absolute_error: 0.2072 - val_loss: 1.1426 - val_mean_absolute_error: 0.2027\n",
      "Epoch 19/25\n",
      "\u001b[1m50/50\u001b[0m \u001b[32m━━━━━━━━━━━━━━━━━━━━\u001b[0m\u001b[37m\u001b[0m \u001b[1m3s\u001b[0m 67ms/step - loss: 1.2420 - mean_absolute_error: 0.2100 - val_loss: 1.1276 - val_mean_absolute_error: 0.2021\n",
      "Epoch 20/25\n",
      "\u001b[1m50/50\u001b[0m \u001b[32m━━━━━━━━━━━━━━━━━━━━\u001b[0m\u001b[37m\u001b[0m \u001b[1m3s\u001b[0m 68ms/step - loss: 1.2069 - mean_absolute_error: 0.2069 - val_loss: 1.0982 - val_mean_absolute_error: 0.1934\n",
      "Epoch 21/25\n",
      "\u001b[1m50/50\u001b[0m \u001b[32m━━━━━━━━━━━━━━━━━━━━\u001b[0m\u001b[37m\u001b[0m \u001b[1m4s\u001b[0m 73ms/step - loss: 1.1683 - mean_absolute_error: 0.1987 - val_loss: 1.0873 - val_mean_absolute_error: 0.1913\n",
      "Epoch 22/25\n",
      "\u001b[1m50/50\u001b[0m \u001b[32m━━━━━━━━━━━━━━━━━━━━\u001b[0m\u001b[37m\u001b[0m \u001b[1m4s\u001b[0m 76ms/step - loss: 1.1633 - mean_absolute_error: 0.1979 - val_loss: 1.0843 - val_mean_absolute_error: 0.1921\n",
      "Epoch 23/25\n",
      "\u001b[1m50/50\u001b[0m \u001b[32m━━━━━━━━━━━━━━━━━━━━\u001b[0m\u001b[37m\u001b[0m \u001b[1m3s\u001b[0m 70ms/step - loss: 1.1531 - mean_absolute_error: 0.1973 - val_loss: 1.0680 - val_mean_absolute_error: 0.1869\n",
      "Epoch 24/25\n",
      "\u001b[1m50/50\u001b[0m \u001b[32m━━━━━━━━━━━━━━━━━━━━\u001b[0m\u001b[37m\u001b[0m \u001b[1m3s\u001b[0m 65ms/step - loss: 1.1604 - mean_absolute_error: 0.1938 - val_loss: 1.0564 - val_mean_absolute_error: 0.1858\n",
      "Epoch 25/25\n",
      "\u001b[1m50/50\u001b[0m \u001b[32m━━━━━━━━━━━━━━━━━━━━\u001b[0m\u001b[37m\u001b[0m \u001b[1m3s\u001b[0m 69ms/step - loss: 1.1058 - mean_absolute_error: 0.1893 - val_loss: 1.0423 - val_mean_absolute_error: 0.1807\n"
     ]
    }
   ],
   "source": [
    "optimizer= keras.optimizers.Adam()\n",
    "\n",
    "model1.compile(optimizer=optimizer,\n",
    "              loss=\"categorical_crossentropy\",\n",
    "              metrics=[keras.metrics.MeanAbsoluteError()])\n",
    "\n",
    "# Entrainement du modèle \n",
    "history = model1.fit(x=X_train,y=y_train,batch_size = 64, \n",
    "                    epochs=25, \n",
    "                    validation_data=(X_val,y_val),steps_per_epoch = 50)"
   ]
  },
  {
   "cell_type": "code",
   "execution_count": 43,
   "id": "8321be71-1ff1-479c-8588-528ef6d10bda",
   "metadata": {},
   "outputs": [
    {
     "data": {
      "image/png": "[encoded data removed]",
      "text/plain": [
       "<Figure size 640x480 with 1 Axes>"
      ]
     },
     "metadata": {},
     "output_type": "display_data"
    }
   ],
   "source": [
    "import matplotlib.pyplot as plt\n",
    "\n",
    "# Visualization of the training process on the loss function \n",
    "plt.plot(history.history[\"loss\"], color=\"b\")\n",
    "plt.plot(history.history[\"val_loss\"], color=\"r\")\n",
    "plt.ylabel(\"loss\")\n",
    "plt.xlabel(\"Epochs\")\n",
    "plt.show()"
   ]
  },
  {
   "cell_type": "markdown",
   "id": "e579d268-33f6-4b07-b208-904b99b5de7d",
   "metadata": {},
   "source": [
    "Evaluating the performance"
   ]
  },
  {
   "cell_type": "code",
   "execution_count": 44,
   "id": "d4ce9ad9-0292-431d-9095-6ae7309230f6",
   "metadata": {},
   "outputs": [
    {
     "name": "stdout",
     "output_type": "stream",
     "text": [
      "\u001b[1m7810/7810\u001b[0m \u001b[32m━━━━━━━━━━━━━━━━━━━━\u001b[0m\u001b[37m\u001b[0m \u001b[1m21s\u001b[0m 3ms/step\n",
      "\u001b[1m2604/2604\u001b[0m \u001b[32m━━━━━━━━━━━━━━━━━━━━\u001b[0m\u001b[37m\u001b[0m \u001b[1m7s\u001b[0m 3ms/step\n"
     ]
    }
   ],
   "source": [
    "y_train_pred_prob = model1.predict(X_train)\n",
    "y_test_pred_prob = model1.predict(X_test)"
   ]
  },
  {
   "cell_type": "code",
   "execution_count": 45,
   "id": "d088e1a3-f2e9-4def-96c7-1884864ae1ab",
   "metadata": {},
   "outputs": [],
   "source": [
    "y_train_pred = y_train_pred_prob.argmax(axis = 1)\n",
    "y_test_pred = y_test_pred_prob.argmax(axis = 1)"
   ]
  },
  {
   "cell_type": "code",
   "execution_count": 56,
   "id": "d1b2657e-e7b6-447d-a0d4-f3fb3d272366",
   "metadata": {},
   "outputs": [],
   "source": [
    "base_case_train = np.ones(y_train_pred.shape)\n",
    "base_case_test = np.ones(y_test_pred.shape)"
   ]
  },
  {
   "cell_type": "code",
   "execution_count": 58,
   "id": "1e7fb43f-09d6-4c15-a28b-c94a698394c2",
   "metadata": {},
   "outputs": [
    {
     "data": {
      "text/plain": [
       "0.6423243455225015"
      ]
     },
     "execution_count": 58,
     "metadata": {},
     "output_type": "execute_result"
    }
   ],
   "source": [
    "np.mean(y_train_pred == y_train.argmax(axis = 1))"
   ]
  },
  {
   "cell_type": "code",
   "execution_count": 70,
   "id": "476dc0e1-d769-469e-bd98-72c83df07a2d",
   "metadata": {},
   "outputs": [
    {
     "data": {
      "text/plain": [
       "0.3385555475521621"
      ]
     },
     "execution_count": 70,
     "metadata": {},
     "output_type": "execute_result"
    }
   ],
   "source": [
    "np.mean(y_train.argmax(axis = 1) == base_case_train)"
   ]
  },
  {
   "cell_type": "code",
   "execution_count": 62,
   "id": "0b679717-012e-4ef7-9116-21278cabfaa2",
   "metadata": {},
   "outputs": [
    {
     "data": {
      "text/plain": [
       "0.6418881605800859"
      ]
     },
     "execution_count": 62,
     "metadata": {},
     "output_type": "execute_result"
    }
   ],
   "source": [
    "np.mean(y_test_pred == y_test)"
   ]
  },
  {
   "cell_type": "code",
   "execution_count": 74,
   "id": "500e18b3-0953-43ef-9023-68e9be707530",
   "metadata": {},
   "outputs": [
    {
     "data": {
      "text/plain": [
       "0.3385555475521621"
      ]
     },
     "execution_count": 74,
     "metadata": {},
     "output_type": "execute_result"
    }
   ],
   "source": [
    "np.mean(y_test == base_case_test)"
   ]
  },
  {
   "cell_type": "code",
   "execution_count": 76,
   "id": "c3620266-a906-48ce-86cc-b51739d8a763",
   "metadata": {},
   "outputs": [
    {
     "data": {
      "text/plain": [
       "0.8589201821572346"
      ]
     },
     "execution_count": 76,
     "metadata": {},
     "output_type": "execute_result"
    }
   ],
   "source": [
    "np.mean(np.abs(y_train_pred - y_train.argmax(axis = 1))<=1)"
   ]
  },
  {
   "cell_type": "code",
   "execution_count": 78,
   "id": "4fe99e3a-44d2-48d4-9692-64f46314934d",
   "metadata": {},
   "outputs": [
    {
     "data": {
      "text/plain": [
       "0.7123900533826343"
      ]
     },
     "execution_count": 78,
     "metadata": {},
     "output_type": "execute_result"
    }
   ],
   "source": [
    "np.mean(np.abs(base_case_train - y_train.argmax(axis = 1))<=1)"
   ]
  },
  {
   "cell_type": "code",
   "execution_count": 80,
   "id": "e9f04cc0-57f9-45b9-8f30-f47475e2aa81",
   "metadata": {},
   "outputs": [
    {
     "data": {
      "text/plain": [
       "0.8567912795025091"
      ]
     },
     "execution_count": 80,
     "metadata": {},
     "output_type": "execute_result"
    }
   ],
   "source": [
    "np.mean(np.abs(y_test_pred - y_test)<=1)"
   ]
  },
  {
   "cell_type": "code",
   "execution_count": 84,
   "id": "96a3fd13-91f6-40bb-8767-2fb218cfa588",
   "metadata": {},
   "outputs": [
    {
     "data": {
      "text/plain": [
       "0.7123940550793536"
      ]
     },
     "execution_count": 84,
     "metadata": {},
     "output_type": "execute_result"
    }
   ],
   "source": [
    "np.mean(np.abs(base_case_test - y_test)<=1)"
   ]
  },
  {
   "cell_type": "code",
   "execution_count": 86,
   "id": "65ee2989-832b-408c-8b4e-1c53395498ee",
   "metadata": {},
   "outputs": [
    {
     "data": {
      "text/plain": [
       "difference\n",
       "0             0.642324\n",
       "1             0.216596\n",
       "2             0.074316\n",
       "3             0.034114\n",
       "4             0.020349\n",
       "5             0.012301\n",
       "Name: count, dtype: float64"
      ]
     },
     "execution_count": 86,
     "metadata": {},
     "output_type": "execute_result"
    }
   ],
   "source": [
    "pd.DataFrame({\"difference\":np.abs(y_train_pred - y_train.argmax(axis = 1))}).value_counts() / len(y_train_pred)"
   ]
  },
  {
   "cell_type": "code",
   "execution_count": 90,
   "id": "d1d86150-413d-4e4d-81cf-2228ded56dbd",
   "metadata": {},
   "outputs": [
    {
     "data": {
      "text/plain": [
       "difference\n",
       "1.0           0.373835\n",
       "0.0           0.338556\n",
       "2.0           0.137270\n",
       "3.0           0.114401\n",
       "4.0           0.035939\n",
       "Name: count, dtype: float64"
      ]
     },
     "execution_count": 90,
     "metadata": {},
     "output_type": "execute_result"
    }
   ],
   "source": [
    "pd.DataFrame({\"difference\":np.abs(base_case_train - y_train.argmax(axis = 1))}).value_counts() / len(y_train_pred)"
   ]
  },
  {
   "cell_type": "code",
   "execution_count": 94,
   "id": "ba22420a-b2c4-47a2-82f7-ab8b307cbc3d",
   "metadata": {},
   "outputs": [
    {
     "data": {
      "text/plain": [
       "difference\n",
       "1.0           0.373839\n",
       "0.0           0.338556\n",
       "2.0           0.137266\n",
       "3.0           0.114397\n",
       "4.0           0.035943\n",
       "Name: count, dtype: float64"
      ]
     },
     "execution_count": 94,
     "metadata": {},
     "output_type": "execute_result"
    }
   ],
   "source": [
    "pd.DataFrame({\"difference\":np.abs(base_case_test - y_test)}).value_counts() / len(y_test_pred)"
   ]
  },
  {
   "cell_type": "code",
   "execution_count": null,
   "id": "2dd94f50-577a-4d9a-bcac-760a3f920485",
   "metadata": {},
   "outputs": [],
   "source": []
  },
  {
   "cell_type": "code",
   "execution_count": null,
   "id": "8d892cd4-ecf5-44fe-9000-3a27da91a110",
   "metadata": {},
   "outputs": [],
   "source": []
  },
  {
   "cell_type": "code",
   "execution_count": null,
   "id": "ef6e18a5-f60d-44d5-b687-873d2fb952e9",
   "metadata": {},
   "outputs": [],
   "source": []
  }
 ],
 "metadata": {
  "kernelspec": {
   "display_name": "Python 3 (ipykernel)",
   "language": "python",
   "name": "python3"
  },
  "language_info": {
   "codemirror_mode": {
    "name": "ipython",
    "version": 3
   },
   "file_extension": ".py",
   "mimetype": "text/x-python",
   "name": "python",
   "nbconvert_exporter": "python",
   "pygments_lexer": "ipython3",
   "version": "3.12.7"
  }
 },
 "nbformat": 4,
 "nbformat_minor": 5
}
